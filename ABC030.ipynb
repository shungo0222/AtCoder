{
 "metadata": {
  "language_info": {
   "codemirror_mode": {
    "name": "ipython",
    "version": 3
   },
   "file_extension": ".py",
   "mimetype": "text/x-python",
   "name": "python",
   "nbconvert_exporter": "python",
   "pygments_lexer": "ipython3",
   "version": 3
  },
  "orig_nbformat": 2
 },
 "nbformat": 4,
 "nbformat_minor": 2,
 "cells": [
  {
   "cell_type": "markdown",
   "metadata": {},
   "source": [
    "# [ABC030](https://atcoder.jp/contests/abc030)\n",
    "---"
   ]
  },
  {
   "cell_type": "markdown",
   "metadata": {},
   "source": [
    "## **A (AC)**"
   ]
  },
  {
   "cell_type": "code",
   "execution_count": null,
   "metadata": {},
   "outputs": [],
   "source": [
    "import sys\n",
    "input = lambda: sys.stdin.readline().rstrip()\n",
    "\n",
    "def main():\n",
    "    a, b, c, d = map(int, input().split())\n",
    "    takahashi = b / a\n",
    "    aoki = d / c\n",
    "    if takahashi > aoki:\n",
    "        print(\"TAKAHASHI\")\n",
    "    elif takahashi < aoki:\n",
    "        print(\"AOKI\")\n",
    "    else:\n",
    "        print(\"DRAW\")\n",
    "            \n",
    "if __name__ == '__main__':\n",
    "    main()"
   ]
  },
  {
   "cell_type": "markdown",
   "metadata": {},
   "source": [
    "## **B (AC)**"
   ]
  },
  {
   "cell_type": "code",
   "execution_count": null,
   "metadata": {},
   "outputs": [],
   "source": [
    "import sys\n",
    "input = lambda: sys.stdin.readline().rstrip()\n",
    "\n",
    "def main():\n",
    "    n, m = map(int, input().split())\n",
    "    h = (60 * (n % 12) + m) * 0.5\n",
    "    m = m * 6\n",
    "    print(min(abs(h-m), 360-abs(h-m)))\n",
    "            \n",
    "if __name__ == '__main__':\n",
    "    main()"
   ]
  }
 ]
}