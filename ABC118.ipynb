{
 "metadata": {
  "language_info": {
   "codemirror_mode": {
    "name": "ipython",
    "version": 3
   },
   "file_extension": ".py",
   "mimetype": "text/x-python",
   "name": "python",
   "nbconvert_exporter": "python",
   "pygments_lexer": "ipython3",
   "version": 3
  },
  "orig_nbformat": 2
 },
 "nbformat": 4,
 "nbformat_minor": 2,
 "cells": [
  {
   "cell_type": "markdown",
   "metadata": {},
   "source": [
    "# [ABC118](https://atcoder.jp/contests/abc118)\n",
    "---"
   ]
  },
  {
   "cell_type": "markdown",
   "metadata": {},
   "source": [
    "## **A (AC)**"
   ]
  },
  {
   "cell_type": "code",
   "execution_count": null,
   "metadata": {},
   "outputs": [],
   "source": [
    "import sys\n",
    "input = lambda: sys.stdin.readline().rstrip()\n",
    "\n",
    "def main():\n",
    "    a, b = map(int, input().split())\n",
    "    if b%a == 0:\n",
    "        print(a+b)\n",
    "    else:\n",
    "        print(b-a)\n",
    "        \n",
    "if __name__ == '__main__':\n",
    "    main()"
   ]
  },
  {
   "cell_type": "markdown",
   "metadata": {},
   "source": [
    "## **B (AC)**"
   ]
  },
  {
   "cell_type": "code",
   "execution_count": null,
   "metadata": {},
   "outputs": [],
   "source": [
    "import sys\n",
    "input = lambda: sys.stdin.readline().rstrip()\n",
    "\n",
    "def main():\n",
    "    n, m = map(int, input().split())\n",
    "    foods = [0] * m\n",
    "    ans = 0\n",
    "    for _ in range(n):\n",
    "        k = list(map(int, input().split()))\n",
    "        for i in range(1, k[0]+1):\n",
    "            foods[k[i]-1] += 1\n",
    "    for i in range(m):\n",
    "        if foods[i] == n:\n",
    "            ans += 1\n",
    "    print(ans)\n",
    "        \n",
    "if __name__ == '__main__':\n",
    "    main()"
   ]
  },
  {
   "cell_type": "markdown",
   "metadata": {},
   "source": [
    "## **C (WA)**"
   ]
  },
  {
   "cell_type": "code",
   "execution_count": null,
   "metadata": {},
   "outputs": [],
   "source": [
    "import sys\n",
    "input = lambda: sys.stdin.readline().rstrip()\n",
    "\n",
    "def main():\n",
    "    n = int(input())\n",
    "    a = list(map(int, input().split()))\n",
    "    a.sort()\n",
    "    ans = a[0]\n",
    "    if a[0]%2 == 0:\n",
    "        for i in range(1, n):\n",
    "            if a[i]%a[0] != 0:\n",
    "                ans = min(ans, a[i]%a[0])\n",
    "    else:\n",
    "        ans = 1\n",
    "    print(ans)\n",
    "        \n",
    "if __name__ == '__main__':\n",
    "    main()"
   ]
  },
  {
   "cell_type": "markdown",
   "metadata": {},
   "source": [
    "## **C (review)**"
   ]
  },
  {
   "cell_type": "markdown",
   "metadata": {},
   "source": [
    "2体のモンスターが攻撃しあう場合を考える  \n",
    "攻撃しあう過程は、ユークリッドの互除法の過程と同じである  \n",
    "よって求める値は最大公約数である  "
   ]
  },
  {
   "cell_type": "code",
   "execution_count": null,
   "metadata": {},
   "outputs": [],
   "source": [
    "import sys\n",
    "import math\n",
    "input = lambda: sys.stdin.readline().rstrip()\n",
    "\n",
    "def main():\n",
    "    n = int(input())\n",
    "    a = list(map(int, input().split()))\n",
    "    for i in range(1, n):\n",
    "        if i == 1:\n",
    "            ans = math.gcd(a[i-1], a[i])\n",
    "        else:\n",
    "            ans = math.gcd(ans, a[i])\n",
    "    print(ans)\n",
    "        \n",
    "if __name__ == '__main__':\n",
    "    main()"
   ]
  }
 ]
}