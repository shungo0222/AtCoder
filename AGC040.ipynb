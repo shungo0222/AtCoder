{
 "metadata": {
  "language_info": {
   "codemirror_mode": {
    "name": "ipython",
    "version": 3
   },
   "file_extension": ".py",
   "mimetype": "text/x-python",
   "name": "python",
   "nbconvert_exporter": "python",
   "pygments_lexer": "ipython3",
   "version": 3
  },
  "orig_nbformat": 2
 },
 "nbformat": 4,
 "nbformat_minor": 2,
 "cells": [
  {
   "cell_type": "markdown",
   "metadata": {},
   "source": [
    "# [AGC040](https://atcoder.jp/contests/agc040)\n",
    "---"
   ]
  },
  {
   "cell_type": "markdown",
   "metadata": {},
   "source": [
    "## **A (AC)**"
   ]
  },
  {
   "cell_type": "code",
   "execution_count": null,
   "metadata": {},
   "outputs": [],
   "source": [
    "import sys\n",
    "input = lambda: sys.stdin.readline().rstrip()\n",
    "\n",
    "def main():\n",
    "    s = input()\n",
    "    ans, i, j = 0, 0, 0\n",
    "    while i < len(s):\n",
    "        if s[i] == '<':\n",
    "            j = 0\n",
    "            while i<len(s) and s[i] == '<':\n",
    "                ans += j\n",
    "                j += 1\n",
    "                i += 1\n",
    "        else:\n",
    "            k = 1\n",
    "            while i<len(s) and s[i] == '>':\n",
    "                ans += k\n",
    "                k += 1\n",
    "                i += 1\n",
    "            if j > k - 1:\n",
    "                ans = ans - (k - 1) + j\n",
    "    if s[-1] == '<':\n",
    "        ans += j\n",
    "    print(ans)\n",
    "                \n",
    "            \n",
    "if __name__ == '__main__':\n",
    "    main()"
   ]
  }
 ]
}