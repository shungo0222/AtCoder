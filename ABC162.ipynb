{
 "cells": [
  {
   "cell_type": "markdown",
   "metadata": {},
   "source": [
    "# [ABC162](https://atcoder.jp/contests/abc162)\n",
    "---"
   ]
  },
  {
   "cell_type": "markdown",
   "metadata": {},
   "source": [
    "## **A (AC)**"
   ]
  },
  {
   "cell_type": "code",
   "execution_count": 1,
   "metadata": {},
   "outputs": [
    {
     "name": "stdin",
     "output_type": "stream",
     "text": [
      " 117\n"
     ]
    },
    {
     "name": "stdout",
     "output_type": "stream",
     "text": [
      "Yes\n"
     ]
    }
   ],
   "source": [
    "n = [int(i) for i in input()]\n",
    "count = 0\n",
    "for i in range(3):\n",
    "    if n[i] == 7:\n",
    "        count += 1\n",
    " \n",
    "if count > 0:\n",
    "    print('Yes')\n",
    "else:\n",
    "    print('No')"
   ]
  },
  {
   "cell_type": "markdown",
   "metadata": {},
   "source": [
    "## **B (AC)**"
   ]
  },
  {
   "cell_type": "code",
   "execution_count": 2,
   "metadata": {},
   "outputs": [
    {
     "name": "stdin",
     "output_type": "stream",
     "text": [
      " 15\n"
     ]
    },
    {
     "name": "stdout",
     "output_type": "stream",
     "text": [
      "60\n"
     ]
    }
   ],
   "source": [
    "n = int(input())\n",
    "sum_ = 0\n",
    " \n",
    "for i in range(1, n+1):\n",
    "    if i % 3 == 0 and i % 5 == 0:\n",
    "        pass\n",
    "    elif i % 3 == 0:\n",
    "        pass\n",
    "    elif i % 5 == 0:\n",
    "        pass\n",
    "    else:\n",
    "        sum_ += i\n",
    " \n",
    "print(sum_)"
   ]
  },
  {
   "cell_type": "markdown",
   "metadata": {},
   "source": [
    "## **C (TLE)**"
   ]
  },
  {
   "cell_type": "code",
   "execution_count": 1,
   "metadata": {},
   "outputs": [
    {
     "name": "stdin",
     "output_type": "stream",
     "text": [
      " 2\n"
     ]
    },
    {
     "name": "stdout",
     "output_type": "stream",
     "text": [
      "9\n"
     ]
    }
   ],
   "source": [
    "import math\n",
    "from functools import reduce\n",
    " \n",
    "def gcd_list(numbers):\n",
    "    return reduce(math.gcd, numbers)\n",
    " \n",
    "k = int(input())\n",
    "sum_ = 0\n",
    " \n",
    "for i in range(1, k+1):\n",
    "    for j in range(1, k+1):\n",
    "        for l in range(1, k+1):\n",
    "            sum_ += gcd_list([i, j, l])\n",
    "            \n",
    "print(sum_)"
   ]
  },
  {
   "cell_type": "code",
   "execution_count": 2,
   "metadata": {},
   "outputs": [
    {
     "name": "stdin",
     "output_type": "stream",
     "text": [
      " 2\n"
     ]
    },
    {
     "name": "stdout",
     "output_type": "stream",
     "text": [
      "9\n"
     ]
    }
   ],
   "source": [
    "import math\n",
    "from functools import reduce\n",
    " \n",
    "k = int(input())\n",
    "sum_ = 0\n",
    " \n",
    "for i in range(1, k+1):\n",
    "    if i == 1:\n",
    "        sum_ += k ** 2\n",
    "    else:\n",
    "        for j in range(1, k+1):\n",
    "            if j == 1:\n",
    "                sum_ += k\n",
    "            else:\n",
    "                for l in range(1, k+1):\n",
    "                    if l == 1:\n",
    "                        sum_ += 1\n",
    "                    else:\n",
    "                        sum_ += reduce(math.gcd, [i, j, l])\n",
    "            \n",
    "print(sum_)"
   ]
  },
  {
   "cell_type": "markdown",
   "metadata": {},
   "source": [
    "## **C (Review)**"
   ]
  },
  {
   "cell_type": "markdown",
   "metadata": {},
   "source": [
    "### AC\n",
    "* math.gcd()を二つに分ける"
   ]
  },
  {
   "cell_type": "code",
   "execution_count": 3,
   "metadata": {},
   "outputs": [
    {
     "name": "stdin",
     "output_type": "stream",
     "text": [
      " 200\n"
     ]
    },
    {
     "name": "stdout",
     "output_type": "stream",
     "text": [
      "10813692\n"
     ]
    }
   ],
   "source": [
    "import math\n",
    " \n",
    "k = int(input())\n",
    "sum_ = 0\n",
    " \n",
    "for i in range(1, k+1):\n",
    "    for j in range(1, k+1):\n",
    "        x = math.gcd(i, j)\n",
    "        for l in range(1, k+1):\n",
    "            sum_ += math.gcd(x, l)\n",
    "            \n",
    "print(sum_)"
   ]
  },
  {
   "cell_type": "markdown",
   "metadata": {},
   "source": [
    "### TLE\n",
    "* ユークリッド互除法"
   ]
  },
  {
   "cell_type": "code",
   "execution_count": 4,
   "metadata": {},
   "outputs": [
    {
     "name": "stdin",
     "output_type": "stream",
     "text": [
      " 200\n"
     ]
    },
    {
     "name": "stdout",
     "output_type": "stream",
     "text": [
      "10813692\n"
     ]
    }
   ],
   "source": [
    "k = int(input())\n",
    "sum_ = 0\n",
    " \n",
    "def gcd(x, y):\n",
    "    while y != 0:\n",
    "        r = x % y\n",
    "        x = y\n",
    "        y = r\n",
    "    return x\n",
    " \n",
    "for i in range(1, k+1):\n",
    "    for j in range(1, k+1):\n",
    "        for l in range(1, k+1):\n",
    "            sum_ += gcd(gcd(i, j), l)\n",
    "        \n",
    "print(sum_)"
   ]
  }
 ],
 "metadata": {
  "kernelspec": {
   "display_name": "Python 3",
   "language": "python",
   "name": "python3"
  },
  "language_info": {
   "codemirror_mode": {
    "name": "ipython",
    "version": 3
   },
   "file_extension": ".py",
   "mimetype": "text/x-python",
   "name": "python",
   "nbconvert_exporter": "python",
   "pygments_lexer": "ipython3",
   "version": "3.7.6"
  }
 },
 "nbformat": 4,
 "nbformat_minor": 4
}
