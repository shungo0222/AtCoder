{
 "cells": [
  {
   "cell_type": "markdown",
   "metadata": {},
   "source": [
    "# [ABC165](https://atcoder.jp/contests/abc165)\n",
    "---"
   ]
  },
  {
   "cell_type": "markdown",
   "metadata": {},
   "source": [
    "## **A (AC)**"
   ]
  },
  {
   "cell_type": "code",
   "execution_count": 6,
   "metadata": {},
   "outputs": [
    {
     "name": "stdin",
     "output_type": "stream",
     "text": [
      " 7\n",
      " 500 600\n"
     ]
    },
    {
     "name": "stdout",
     "output_type": "stream",
     "text": [
      "OK\n"
     ]
    },
    {
     "ename": "SystemExit",
     "evalue": "",
     "output_type": "error",
     "traceback": [
      "An exception has occurred, use %tb to see the full traceback.\n",
      "\u001b[0;31mSystemExit\u001b[0m\n"
     ]
    }
   ],
   "source": [
    "import sys\n",
    "K = int(input())\n",
    "A, B = map(int, input().split())\n",
    " \n",
    "i = 1\n",
    "while(True):\n",
    "    if((A<=K*i) and (K*i<=B)):\n",
    "        print('OK')\n",
    "        sys.exit()\n",
    "    if(B<K*i):\n",
    "        print('NG')\n",
    "        sys.exit()\n",
    "    i += 1"
   ]
  },
  {
   "cell_type": "markdown",
   "metadata": {},
   "source": [
    "## **B (AC)**"
   ]
  },
  {
   "cell_type": "code",
   "execution_count": 7,
   "metadata": {},
   "outputs": [
    {
     "name": "stdin",
     "output_type": "stream",
     "text": [
      " 103\n"
     ]
    },
    {
     "name": "stdout",
     "output_type": "stream",
     "text": [
      "3\n"
     ]
    }
   ],
   "source": [
    "X = int(input())\n",
    "sum = 100\n",
    "year = 0\n",
    " \n",
    "while(sum < X):\n",
    "  sum = int(sum * 1.01)\n",
    "  year += 1\n",
    "  \n",
    "print(year)"
   ]
  },
  {
   "cell_type": "markdown",
   "metadata": {},
   "source": [
    "## **C (解けなかった)**"
   ]
  },
  {
   "cell_type": "markdown",
   "metadata": {},
   "source": [
    "## **C (review)**"
   ]
  },
  {
   "cell_type": "markdown",
   "metadata": {},
   "source": [
    "ポイント  \n",
    "\n",
    "* 重複組み合わせ  \n",
    "* itertools.combinations_with_replacement関数  \n",
    "\n",
    "まず最大の場合の計算量について考えると、<sub>N+M-1</sub>C<sub>N</sub>より<sub>10+10-1</sub>C<sub>10</sub>  \n",
    "よってすべての重複を許した組み合わせは92378通り  \n",
    "またそれぞれ50パターンを試したとしても4618900通り  \n",
    "=> 全探索でいけることが分かる  \n",
    "\n",
    "重複組み合わせの列挙はitertools.combinations_with_replacement関数で実装できる  \n",
    "\n",
    "(参考)  \n",
    "[重複組合せの公式と例題（玉，整数解の個数）](https://mathtrain.jp/tyohukuc)  \n",
    "[Pythonで競プロするのに必要な機能をまとめてみた~itertools~](https://qiita.com/DaikiSuyama/items/11f63a94d63fa72e8bf4#3combinations%E9%96%A2%E6%95%B0)"
   ]
  },
  {
   "cell_type": "code",
   "execution_count": null,
   "metadata": {},
   "outputs": [],
   "source": [
    "import sys\n",
    "import itertools\n",
    "input = lambda: sys.stdin.readline().rstrip()\n",
    "\n",
    "def main():\n",
    "    n, m, q = map(int, input().split())\n",
    "    comb = [list(map(int, input().split())) for _ in range(q)]\n",
    "    max_ = 0\n",
    "    for i in itertools.combinations_with_replacement(range(1,m+1), n):\n",
    "        point = 0\n",
    "        for j in comb:\n",
    "            if i[j[1]-1] - i[j[0]-1] == j[2]:\n",
    "                point += j[3]\n",
    "        max_ = max(max_, point)\n",
    "    print(max_)\n",
    "\n",
    "if __name__ == '__main__':\n",
    "    main()"
   ]
  }
 ],
 "metadata": {
  "kernelspec": {
   "display_name": "Python 3",
   "language": "python",
   "name": "python3"
  },
  "language_info": {
   "codemirror_mode": {
    "name": "ipython",
    "version": 3
   },
   "file_extension": ".py",
   "mimetype": "text/x-python",
   "name": "python",
   "nbconvert_exporter": "python",
   "pygments_lexer": "ipython3",
   "version": "3.7.6"
  }
 },
 "nbformat": 4,
 "nbformat_minor": 4
}