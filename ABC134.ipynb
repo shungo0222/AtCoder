{
 "cells": [
  {
   "cell_type": "markdown",
   "metadata": {},
   "source": [
    "# [ABC134](https://atcoder.jp/contests/abc134)\n",
    "---"
   ]
  },
  {
   "cell_type": "markdown",
   "metadata": {},
   "source": [
    "## **A (AC)**"
   ]
  },
  {
   "cell_type": "code",
   "execution_count": null,
   "metadata": {},
   "outputs": [],
   "source": [
    "import sys\n",
    "input = lambda: sys.stdin.readline().rstrip()\n",
    "\n",
    "def main():\n",
    "    r = int(input())\n",
    "    print(3*(r**2))\n",
    "\n",
    "if __name__ == '__main__':\n",
    "    main()"
   ]
  },
  {
   "cell_type": "markdown",
   "metadata": {},
   "source": [
    "## **B (AC)**"
   ]
  },
  {
   "cell_type": "code",
   "execution_count": null,
   "metadata": {},
   "outputs": [],
   "source": [
    "import sys\n",
    "input = lambda: sys.stdin.readline().rstrip()\n",
    "\n",
    "def main():\n",
    "    n, d = map(int, input().split())\n",
    "    tree = 1\n",
    "    ans = 0\n",
    "    while True:\n",
    "        ans += 1\n",
    "        tree += 2 * d\n",
    "        if tree >= n:\n",
    "            print(ans)\n",
    "            return\n",
    "        tree += 1\n",
    "\n",
    "if __name__ == '__main__':\n",
    "    main()"
   ]
  },
  {
   "cell_type": "markdown",
   "metadata": {},
   "source": [
    "## **C (AC)**"
   ]
  },
  {
   "cell_type": "code",
   "execution_count": null,
   "metadata": {},
   "outputs": [],
   "source": [
    "import sys\n",
    "input = lambda: sys.stdin.readline().rstrip()\n",
    "\n",
    "def main():\n",
    "    n = int(input())\n",
    "    a = []\n",
    "    for _ in range(n):\n",
    "        a.append(int(input()))\n",
    "    max_l, max_r = [a[0]], [a[-1]]\n",
    "    for i in range(1, n):\n",
    "        max_l.append(max(max_l[i-1], a[i]))\n",
    "        max_r.append(max(max_r[i-1], a[-(i+1)]))\n",
    "    max_r = max_r[::-1]\n",
    "    for i in range(n):\n",
    "        if i == 0:\n",
    "            print(max_r[1])\n",
    "        elif i == n - 1:\n",
    "            print(max_l[-2])\n",
    "        else:\n",
    "            print(max(max_l[i-1], max_r[i+1]))\n",
    "\n",
    "if __name__ == '__main__':\n",
    "    main()"
   ]
  }
 ],
 "metadata": {
  "language_info": {
   "codemirror_mode": {
    "name": "ipython",
    "version": 3
   },
   "file_extension": ".py",
   "mimetype": "text/x-python",
   "name": "python",
   "nbconvert_exporter": "python",
   "pygments_lexer": "ipython3",
   "version": 3
  },
  "orig_nbformat": 2
 },
 "nbformat": 4,
 "nbformat_minor": 2
}