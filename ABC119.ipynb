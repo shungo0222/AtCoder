{
 "cells": [
  {
   "cell_type": "markdown",
   "metadata": {},
   "source": [
    "# [ABC119](https://atcoder.jp/contests/abc119)\n",
    "---"
   ]
  },
  {
   "cell_type": "markdown",
   "metadata": {},
   "source": [
    "## **A (AC)**"
   ]
  },
  {
   "cell_type": "code",
   "execution_count": null,
   "metadata": {},
   "outputs": [],
   "source": [
    "import sys\n",
    "input = lambda: sys.stdin.readline().rstrip()\n",
    "\n",
    "def main():\n",
    "    s = list(map(int, input().split('/')))\n",
    "    if s[0] < 2019:\n",
    "        print(\"Heisei\")\n",
    "    elif s[0] > 2019:\n",
    "        print(\"TBD\")\n",
    "    else:\n",
    "        if s[1] < 4:\n",
    "            print(\"Heisei\")\n",
    "        elif s[1] > 4:\n",
    "            print(\"TBD\")\n",
    "        else:\n",
    "            if s[2] <= 30:\n",
    "                print(\"Heisei\")\n",
    "            else:\n",
    "                print(\"TBD\")\n",
    "        \n",
    "if __name__ == '__main__':\n",
    "    main()"
   ]
  },
  {
   "cell_type": "markdown",
   "metadata": {},
   "source": [
    "## **B (AC)**"
   ]
  },
  {
   "cell_type": "code",
   "execution_count": null,
   "metadata": {},
   "outputs": [],
   "source": [
    "import sys\n",
    "input = lambda: sys.stdin.readline().rstrip()\n",
    "\n",
    "def main():\n",
    "    n = int(input())\n",
    "    xu = [list(input().split()) for _ in range(n)]\n",
    "    ans = 0\n",
    "    for i in range(n):\n",
    "        if xu[i][1] == \"JPY\":\n",
    "            ans += int(xu[i][0])\n",
    "        else:\n",
    "            ans += (float(xu[i][0]) * 380000)\n",
    "    print(ans)\n",
    "        \n",
    "if __name__ == '__main__':\n",
    "    main()"
   ]
  }
 ],
 "metadata": {
  "language_info": {
   "codemirror_mode": {
    "name": "ipython",
    "version": 3
   },
   "file_extension": ".py",
   "mimetype": "text/x-python",
   "name": "python",
   "nbconvert_exporter": "python",
   "pygments_lexer": "ipython3",
   "version": 3
  },
  "orig_nbformat": 2
 },
 "nbformat": 4,
 "nbformat_minor": 2
}