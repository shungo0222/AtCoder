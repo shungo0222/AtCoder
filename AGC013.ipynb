{
 "metadata": {
  "language_info": {
   "codemirror_mode": {
    "name": "ipython",
    "version": 3
   },
   "file_extension": ".py",
   "mimetype": "text/x-python",
   "name": "python",
   "nbconvert_exporter": "python",
   "pygments_lexer": "ipython3",
   "version": 3
  },
  "orig_nbformat": 2
 },
 "nbformat": 4,
 "nbformat_minor": 2,
 "cells": [
  {
   "cell_type": "markdown",
   "metadata": {},
   "source": [
    "# [AGC013](https://atcoder.jp/contests/agc013)\n",
    "---"
   ]
  },
  {
   "cell_type": "markdown",
   "metadata": {},
   "source": [
    "## **A (分からなかった)**"
   ]
  },
  {
   "cell_type": "markdown",
   "metadata": {},
   "source": [
    "## **A (review)**"
   ]
  },
  {
   "cell_type": "markdown",
   "metadata": {},
   "source": [
    "* 貪欲法"
   ]
  },
  {
   "cell_type": "code",
   "execution_count": null,
   "metadata": {},
   "outputs": [],
   "source": [
    "import sys\n",
    "input = lambda: sys.stdin.readline().rstrip()\n",
    "\n",
    "def main():\n",
    "    n = int(input())\n",
    "    a = list(map(int, input().split()))\n",
    "    ans = 0\n",
    "    i = 0\n",
    "    while i < n:\n",
    "        while i+1<n and a[i]==a[i+1]:\n",
    "            i += 1\n",
    "        if i+1<n and a[i] < a[i+1]:\n",
    "            while i+1<n and a[i]<=a[i+1]:\n",
    "                i += 1\n",
    "        elif i+1<n and a[i] > a[i+1]:\n",
    "            while i+1<n and a[i]>=a[i+1]:\n",
    "                i += 1\n",
    "        ans += 1\n",
    "        i += 1\n",
    "    print(ans)\n",
    "            \n",
    "if __name__ == '__main__':\n",
    "    main()"
   ]
  }
 ]
}