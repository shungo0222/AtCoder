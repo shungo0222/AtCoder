{
 "cells": [
  {
   "cell_type": "markdown",
   "metadata": {},
   "source": [
    "# [ABC155](https://atcoder.jp/contests/abc155)\n",
    "---"
   ]
  },
  {
   "cell_type": "markdown",
   "metadata": {},
   "source": [
    "## **A (AC)**"
   ]
  },
  {
   "cell_type": "code",
   "execution_count": 1,
   "metadata": {},
   "outputs": [
    {
     "name": "stdin",
     "output_type": "stream",
     "text": [
      " 5 7 5\n"
     ]
    },
    {
     "name": "stdout",
     "output_type": "stream",
     "text": [
      "Yes\n"
     ]
    }
   ],
   "source": [
    "a, b, c = list(map(int, input().split()))\n",
    "count = 0\n",
    " \n",
    "if(a == b):\n",
    "  count += 1\n",
    "if(a == c):\n",
    "  count += 1\n",
    "if(b == c):\n",
    "  count += 1\n",
    "  \n",
    "if(count == 1):\n",
    "  print('Yes')\n",
    "else:\n",
    "  print('No')"
   ]
  },
  {
   "cell_type": "markdown",
   "metadata": {},
   "source": [
    "## **B (AC)**"
   ]
  },
  {
   "cell_type": "code",
   "execution_count": 3,
   "metadata": {},
   "outputs": [
    {
     "name": "stdin",
     "output_type": "stream",
     "text": [
      " 5\n",
      " 6 7 9 10 31\n"
     ]
    },
    {
     "name": "stdout",
     "output_type": "stream",
     "text": [
      "APPROVED\n"
     ]
    }
   ],
   "source": [
    "import sys\n",
    "n = int(input())\n",
    "a = list(map(int, input().split()))\n",
    " \n",
    "for i in range(n):\n",
    "  if(a[i]%2==0):\n",
    "    if((a[i]%3==0) or (a[i]%5==0)):\n",
    "      pass\n",
    "    else:\n",
    "      print('DENIED')\n",
    "      sys.exit()\n",
    "      \n",
    "print('APPROVED')"
   ]
  }
 ],
 "metadata": {
  "kernelspec": {
   "display_name": "Python 3",
   "language": "python",
   "name": "python3"
  },
  "language_info": {
   "codemirror_mode": {
    "name": "ipython",
    "version": 3
   },
   "file_extension": ".py",
   "mimetype": "text/x-python",
   "name": "python",
   "nbconvert_exporter": "python",
   "pygments_lexer": "ipython3",
   "version": "3.7.6"
  }
 },
 "nbformat": 4,
 "nbformat_minor": 4
}
