{
 "cells": [
  {
   "cell_type": "markdown",
   "metadata": {},
   "source": [
    "# [ABC155](https://atcoder.jp/contests/abc155)\n",
    "---"
   ]
  },
  {
   "cell_type": "markdown",
   "metadata": {},
   "source": [
    "## **A (AC)**"
   ]
  },
  {
   "cell_type": "code",
   "execution_count": 1,
   "metadata": {},
   "outputs": [
    {
     "name": "stdin",
     "output_type": "stream",
     "text": [
      " 5 7 5\n"
     ]
    },
    {
     "name": "stdout",
     "output_type": "stream",
     "text": [
      "Yes\n"
     ]
    }
   ],
   "source": [
    "a, b, c = list(map(int, input().split()))\n",
    "count = 0\n",
    " \n",
    "if(a == b):\n",
    "  count += 1\n",
    "if(a == c):\n",
    "  count += 1\n",
    "if(b == c):\n",
    "  count += 1\n",
    "  \n",
    "if(count == 1):\n",
    "  print('Yes')\n",
    "else:\n",
    "  print('No')"
   ]
  },
  {
   "cell_type": "markdown",
   "metadata": {},
   "source": [
    "## **B (AC)**"
   ]
  },
  {
   "cell_type": "code",
   "execution_count": 3,
   "metadata": {},
   "outputs": [
    {
     "name": "stdin",
     "output_type": "stream",
     "text": [
      " 5\n",
      " 6 7 9 10 31\n"
     ]
    },
    {
     "name": "stdout",
     "output_type": "stream",
     "text": [
      "APPROVED\n"
     ]
    }
   ],
   "source": [
    "import sys\n",
    "n = int(input())\n",
    "a = list(map(int, input().split()))\n",
    " \n",
    "for i in range(n):\n",
    "  if(a[i]%2==0):\n",
    "    if((a[i]%3==0) or (a[i]%5==0)):\n",
    "      pass\n",
    "    else:\n",
    "      print('DENIED')\n",
    "      sys.exit()\n",
    "      \n",
    "print('APPROVED')"
   ]
  },
  {
   "cell_type": "markdown",
   "metadata": {},
   "source": [
    "## **C (TLE)**"
   ]
  },
  {
   "cell_type": "code",
   "execution_count": 4,
   "metadata": {},
   "outputs": [
    {
     "output_type": "stream",
     "name": "stdout",
     "text": "beet\nvet\n"
    }
   ],
   "source": [
    "import sys\n",
    "import collections\n",
    "# input = lambda: sys.stdin.readline().rstrip()\n",
    " \n",
    "def main():\n",
    "    n = int(input())\n",
    "    s = [input() for _ in range(n)]\n",
    "    cnt = collections.Counter(s)\n",
    "    d = sorted([k for k, v in cnt.items() if v == max(cnt.values())])  # <== 原因\n",
    "    print(*d, sep='\\n')\n",
    " \n",
    "if __name__ == '__main__':\n",
    "    main()"
   ]
  },
  {
   "cell_type": "markdown",
   "metadata": {},
   "source": [
    "## **C (review)**\n",
    "\n",
    "辞書型の値からキーをリスト内包表記で探すときに、if文の条件のところで毎回max関数を呼びだしている。  \n",
    "そのため無駄な処理を要素の数だけ行ってしまって、結果的にタイムアウトになってしまう。  \n",
    "=> **無駄な処理を減らすために複数行に分けてやる**"
   ]
  },
  {
   "cell_type": "markdown",
   "metadata": {},
   "source": [
    "* (AC) max関数の返却値を変数に入れて置き、リスト内包表記の中ではその変数を参照する"
   ]
  },
  {
   "cell_type": "code",
   "execution_count": null,
   "metadata": {},
   "outputs": [],
   "source": [
    "import sys\n",
    "import collections\n",
    "# input = lambda: sys.stdin.readline().rstrip()\n",
    " \n",
    "def main():\n",
    "    n = int(input())\n",
    "    s = [input() for _ in range(n)]\n",
    "    cnt = collections.Counter(s)\n",
    "    cnt_max = max(cnt.values())\n",
    "    d = [k for k, v in cnt.items() if v == cnt_max]\n",
    "    d = sorted(d)\n",
    "    print(*d, sep='\\n')\n",
    " \n",
    "if __name__ == '__main__':\n",
    "    main()"
   ]
  },
  {
   "cell_type": "markdown",
   "metadata": {},
   "source": [
    "* (AC) most_commonメソッドを使って要素と回数をタプルで取り出して、それをzip関数でアンパックしてそれぞれの変数に代入"
   ]
  },
  {
   "cell_type": "code",
   "execution_count": null,
   "metadata": {},
   "outputs": [],
   "source": [
    "import sys\n",
    "import collections\n",
    "# input = lambda: sys.stdin.readline().rstrip()\n",
    " \n",
    "def main():\n",
    "    n = int(input())\n",
    "    s = [input() for _ in range(n)]\n",
    "    cnt = collections.Counter(s)\n",
    "    values, counts = zip(*cnt.most_common())\n",
    "    d = sorted(values[:counts.count(counts[0])])\n",
    "    print(*d, sep='\\n')\n",
    " \n",
    "if __name__ == '__main__':\n",
    "    main()"
   ]
  }
 ],
 "metadata": {
  "kernelspec": {
   "display_name": "Python 3",
   "language": "python",
   "name": "python3"
  },
  "language_info": {
   "codemirror_mode": {
    "name": "ipython",
    "version": 3
   },
   "file_extension": ".py",
   "mimetype": "text/x-python",
   "name": "python",
   "nbconvert_exporter": "python",
   "pygments_lexer": "ipython3",
   "version": "3.7.4-final"
  }
 },
 "nbformat": 4,
 "nbformat_minor": 4
}