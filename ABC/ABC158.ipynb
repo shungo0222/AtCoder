{
 "cells": [
  {
   "cell_type": "markdown",
   "metadata": {},
   "source": [
    "# [ABC158](https://atcoder.jp/contests/abc158)\n",
    "---"
   ]
  },
  {
   "cell_type": "markdown",
   "metadata": {},
   "source": [
    "## **A (AC)**"
   ]
  },
  {
   "cell_type": "code",
   "execution_count": 1,
   "metadata": {},
   "outputs": [
    {
     "output_type": "stream",
     "name": "stdout",
     "text": "Yes\n"
    }
   ],
   "source": [
    "import sys\n",
    "# input = lambda: sys.stdin.readline().rstrip()\n",
    " \n",
    "def main():\n",
    "    s = input()\n",
    "    if s.count('A') == 3 or s.count('B') == 3:\n",
    "        print('No')\n",
    "    else:\n",
    "        print('Yes')\n",
    " \n",
    "if __name__ == '__main__':\n",
    "    main()"
   ]
  },
  {
   "cell_type": "markdown",
   "metadata": {},
   "source": [
    "## **B (AC)**"
   ]
  },
  {
   "cell_type": "code",
   "execution_count": 2,
   "metadata": {},
   "outputs": [
    {
     "output_type": "stream",
     "name": "stdout",
     "text": "4\n"
    }
   ],
   "source": [
    "import sys\n",
    "# input = lambda: sys.stdin.readline().rstrip()\n",
    " \n",
    "def main():\n",
    "    n, a, b = map(int, input().split())\n",
    "    blue = (n // (a+b)) * a\n",
    "    r = n % (a+b)\n",
    "    if r <= a:\n",
    "        print(blue+r)\n",
    "    else:\n",
    "        print(blue+a)\n",
    " \n",
    "if __name__ == '__main__':\n",
    "    main()"
   ]
  },
  {
   "cell_type": "markdown",
   "metadata": {},
   "source": [
    "## **C (AC)**"
   ]
  },
  {
   "cell_type": "code",
   "execution_count": 3,
   "metadata": {},
   "outputs": [
    {
     "output_type": "stream",
     "name": "stdout",
     "text": "25\n"
    }
   ],
   "source": [
    "import sys\n",
    "# input = lambda: sys.stdin.readline().rstrip()\n",
    " \n",
    "def main():\n",
    "    a, b = map(int, input().split())\n",
    "    for i in range(1, 1001):\n",
    "        if int(i*0.08) == a and int(i*0.1) == b:\n",
    "            print(i)\n",
    "            return\n",
    "        if i == 1000:\n",
    "            print(-1)\n",
    " \n",
    "if __name__ == '__main__':\n",
    "    main()"
   ]
  },
  {
   "cell_type": "markdown",
   "metadata": {},
   "source": [
    "## **D (TLE)**"
   ]
  },
  {
   "cell_type": "markdown",
   "metadata": {},
   "source": [
    "pythonでは文字列はimmutableなオブジェクトなので、更新をするたびにオブジェクトを破棄し新たなものを作るという作業で時間がかかってしまう  \n",
    "(参考)  \n",
    "[文字列連結の常識、joinは本当に速いのか[Python3]](https://qiita.com/GinRickey/items/d8ed9964820313340a93)"
   ]
  },
  {
   "cell_type": "code",
   "execution_count": null,
   "metadata": {},
   "outputs": [],
   "source": [
    "import sys\n",
    "input = lambda: sys.stdin.readline().rstrip()\n",
    "\n",
    "def main():\n",
    "    s = input()\n",
    "    q = int(input())\n",
    "    reverse = False\n",
    "    \n",
    "    for _ in range(q):\n",
    "        query = list(input().split())\n",
    "        if query[0] == '1':\n",
    "            if reverse:\n",
    "                reverse = False\n",
    "            else:\n",
    "                reverse = True\n",
    "        else:\n",
    "            if reverse:\n",
    "                if query[1] == '1':\n",
    "                    s = s + query[2]\n",
    "                else:\n",
    "                    s = query[2] + s\n",
    "            else:\n",
    "                if query[1] == '1':\n",
    "                    s = query[2] + s\n",
    "                else:\n",
    "                    s = s + query[2]\n",
    "    \n",
    "    if reverse:\n",
    "        print(s[::-1])\n",
    "    else:\n",
    "        print(s)\n",
    "        \n",
    "if __name__ == '__main__':\n",
    "    main()"
   ]
  },
  {
   "cell_type": "markdown",
   "metadata": {},
   "source": [
    "## **D (review)**"
   ]
  },
  {
   "cell_type": "markdown",
   "metadata": {},
   "source": [
    "pythonのリストでは先頭に要素を追加するのに **O(N)** かかってしまう  \n",
    "collectionsモジュールのdeque型を使うことによって **O(1)** で処理を行うことができる  \n",
    "(参考)  \n",
    "[Pythonのdequeでキュー、スタック、デック（両端キュー）を扱う](https://note.nkmk.me/python-collections-deque/)"
   ]
  },
  {
   "cell_type": "code",
   "execution_count": null,
   "metadata": {},
   "outputs": [],
   "source": [
    "import sys\n",
    "from collections import deque\n",
    "input = lambda: sys.stdin.readline().rstrip()\n",
    "\n",
    "def main():\n",
    "    s = deque(input())\n",
    "    q = int(input())\n",
    "    reverse = False\n",
    "    \n",
    "    for _ in range(q):\n",
    "        query = list(input().split())\n",
    "        if query[0] == '1':\n",
    "            reverse ^= True\n",
    "        else:\n",
    "            if reverse:\n",
    "                if query[1] == '1':\n",
    "                    s.append(query[2])\n",
    "                else:\n",
    "                    s.appendleft(query[2])\n",
    "            else:\n",
    "                if query[1] == '1':\n",
    "                    s.appendleft(query[2])\n",
    "                else:\n",
    "                    s.append(query[2])\n",
    "                    \n",
    "    s = ''.join(s)\n",
    "    if reverse:\n",
    "        s = s[::-1]\n",
    "    print(s)\n",
    "        \n",
    "if __name__ == '__main__':\n",
    "    main()"
   ]
  }
 ],
 "metadata": {
  "language_info": {
   "codemirror_mode": {
    "name": "ipython",
    "version": 3
   },
   "file_extension": ".py",
   "mimetype": "text/x-python",
   "name": "python",
   "nbconvert_exporter": "python",
   "pygments_lexer": "ipython3",
   "version": "3.7.4-final"
  },
  "orig_nbformat": 2,
  "kernelspec": {
   "name": "python3",
   "display_name": "Python 3"
  }
 },
 "nbformat": 4,
 "nbformat_minor": 2
}