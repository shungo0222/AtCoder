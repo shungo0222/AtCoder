{
 "cells": [
  {
   "cell_type": "markdown",
   "metadata": {},
   "source": [
    "# [ABC125](https://atcoder.jp/contests/abc125)\n",
    "---"
   ]
  },
  {
   "cell_type": "markdown",
   "metadata": {},
   "source": [
    "## **A (AC)**"
   ]
  },
  {
   "cell_type": "code",
   "execution_count": null,
   "metadata": {},
   "outputs": [],
   "source": [
    "import sys\n",
    "input = lambda: sys.stdin.readline().rstrip()\n",
    "\n",
    "def main():\n",
    "    a, b, t = map(int, input().split())\n",
    "    ans = 0\n",
    "    i = 1\n",
    "    sec = 0\n",
    "    while sec <= t+0.5:\n",
    "        ans += b\n",
    "        sec = a * i\n",
    "        i += 1\n",
    "    print(ans-b)\n",
    "    \n",
    "if __name__ == '__main__':\n",
    "    main()"
   ]
  },
  {
   "cell_type": "markdown",
   "metadata": {},
   "source": [
    "## **B (TLE)**"
   ]
  },
  {
   "cell_type": "markdown",
   "metadata": {},
   "source": [
    "bit全探索をしたのでO(2<sup>N</sup>)となってしまいTLE"
   ]
  },
  {
   "cell_type": "code",
   "execution_count": null,
   "metadata": {},
   "outputs": [],
   "source": [
    "import sys\n",
    "input = lambda: sys.stdin.readline().rstrip()\n",
    "\n",
    "def main():\n",
    "    n = int(input())\n",
    "    v = list(map(int, input().split()))\n",
    "    c = list(map(int, input().split()))\n",
    "    ans = 0\n",
    "    \n",
    "    for i in range(2**n):\n",
    "        value, cost = 0, 0\n",
    "        for j in range(n):\n",
    "            if i >> j & 1:\n",
    "                value += v[j]\n",
    "                cost += c[j]\n",
    "        ans = max(ans, value - cost)\n",
    "    print(ans)\n",
    "    \n",
    "if __name__ == '__main__':\n",
    "    main()"
   ]
  },
  {
   "cell_type": "markdown",
   "metadata": {},
   "source": [
    "## **B (review)**"
   ]
  },
  {
   "cell_type": "markdown",
   "metadata": {},
   "source": [
    "（解説より）コストよりも価値が高いものを選ぶ"
   ]
  },
  {
   "cell_type": "code",
   "execution_count": null,
   "metadata": {},
   "outputs": [],
   "source": [
    "import sys\n",
    "input = lambda: sys.stdin.readline().rstrip()\n",
    "\n",
    "def main():\n",
    "    n = int(input())\n",
    "    v = list(map(int, input().split()))\n",
    "    c = list(map(int, input().split()))\n",
    "    ans = 0\n",
    "    for i in range(n):\n",
    "        if v[i] > c[i]:\n",
    "            ans += v[i] - c[i]\n",
    "    print(ans)\n",
    "    \n",
    "if __name__ == '__main__':\n",
    "    main()"
   ]
  }
 ],
 "metadata": {
  "language_info": {
   "codemirror_mode": {
    "name": "ipython",
    "version": 3
   },
   "file_extension": ".py",
   "mimetype": "text/x-python",
   "name": "python",
   "nbconvert_exporter": "python",
   "pygments_lexer": "ipython3",
   "version": 3
  },
  "orig_nbformat": 2
 },
 "nbformat": 4,
 "nbformat_minor": 2
}