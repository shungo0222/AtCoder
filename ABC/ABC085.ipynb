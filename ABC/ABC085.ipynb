{
 "cells": [
  {
   "cell_type": "markdown",
   "metadata": {},
   "source": [
    "# [ABC085](https://atcoder.jp/contests/abc085)\n",
    "---"
   ]
  },
  {
   "cell_type": "markdown",
   "metadata": {},
   "source": [
    "## **A (AC)**"
   ]
  },
  {
   "cell_type": "code",
   "execution_count": null,
   "metadata": {},
   "outputs": [],
   "source": [
    "import sys\n",
    "input = lambda: sys.stdin.readline().rstrip()\n",
    "\n",
    "def main():\n",
    "    s = input().split('/')\n",
    "    s[0] = '2018'\n",
    "    print('/'.join(s))\n",
    "\n",
    "if __name__ == '__main__':\n",
    "    main()"
   ]
  },
  {
   "cell_type": "markdown",
   "metadata": {},
   "source": [
    "## **B (AC)**"
   ]
  },
  {
   "cell_type": "code",
   "execution_count": null,
   "metadata": {},
   "outputs": [],
   "source": [
    "import sys\n",
    "input = lambda: sys.stdin.readline().rstrip()\n",
    "\n",
    "def main():\n",
    "    n = int(input())\n",
    "    d = set(input() for _ in range(n))\n",
    "    print(len(d))\n",
    "\n",
    "if __name__ == '__main__':\n",
    "    main()"
   ]
  },
  {
   "cell_type": "markdown",
   "metadata": {},
   "source": [
    "## **C (AC)**"
   ]
  },
  {
   "cell_type": "markdown",
   "metadata": {},
   "source": [
    "3種類の枚数をそれぞれfor文でまわすとTLEする  \n",
    "-> 2種類の枚数が決まれば残りも決まるのでfor文は2つで良い"
   ]
  },
  {
   "cell_type": "code",
   "execution_count": null,
   "metadata": {},
   "outputs": [],
   "source": [
    "import sys\n",
    "input = lambda: sys.stdin.readline().rstrip()\n",
    "\n",
    "def main():\n",
    "    n, y = map(int, input().split())\n",
    "    for i in range(n+1):\n",
    "        for j in range(n-i+1):\n",
    "            if i*10000 + j*5000 + (n-i-j)*1000 == y:\n",
    "                print(i, j, n-i-j)\n",
    "                return\n",
    "    print(-1, -1, -1)\n",
    "\n",
    "if __name__ == '__main__':\n",
    "    main()"
   ]
  }
 ],
 "metadata": {
  "language_info": {
   "codemirror_mode": {
    "name": "ipython",
    "version": 3
   },
   "file_extension": ".py",
   "mimetype": "text/x-python",
   "name": "python",
   "nbconvert_exporter": "python",
   "pygments_lexer": "ipython3",
   "version": 3
  },
  "orig_nbformat": 2
 },
 "nbformat": 4,
 "nbformat_minor": 2
}