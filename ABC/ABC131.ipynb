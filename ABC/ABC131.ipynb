{
 "cells": [
  {
   "cell_type": "markdown",
   "metadata": {},
   "source": [
    "# [ABC131](https://atcoder.jp/contests/abc131)\n",
    "---"
   ]
  },
  {
   "cell_type": "markdown",
   "metadata": {},
   "source": [
    "## **A (AC)**"
   ]
  },
  {
   "cell_type": "code",
   "execution_count": null,
   "metadata": {},
   "outputs": [],
   "source": [
    "import sys\n",
    "input = lambda: sys.stdin.readline().rstrip()\n",
    "\n",
    "def main():\n",
    "    s = input()\n",
    "    for i in range(len(s)-1):\n",
    "        if s[i] == s[i+1]:\n",
    "            print('Bad')\n",
    "            return\n",
    "    print('Good')\n",
    "    \n",
    "if __name__ == '__main__':\n",
    "    main()"
   ]
  },
  {
   "cell_type": "markdown",
   "metadata": {},
   "source": [
    "## **B (AC)**"
   ]
  },
  {
   "cell_type": "code",
   "execution_count": null,
   "metadata": {},
   "outputs": [],
   "source": [
    "import sys\n",
    "input = lambda: sys.stdin.readline().rstrip()\n",
    "\n",
    "def main():\n",
    "    n, l = map(int, input().split())\n",
    "    apple = [l+i-1 for i in range(1, n+1)]\n",
    "    if apple[-1] < 0:\n",
    "        print(sum(apple[:-1]))\n",
    "    elif apple[0] > 0:\n",
    "        print(sum(apple[1:]))\n",
    "    else:\n",
    "        print(sum(apple[:]))\n",
    "    \n",
    "if __name__ == '__main__':\n",
    "    main()"
   ]
  },
  {
   "cell_type": "markdown",
   "metadata": {},
   "source": [
    "## **C (分からなかった)**"
   ]
  },
  {
   "cell_type": "markdown",
   "metadata": {},
   "source": [
    "## **C (review)**"
   ]
  },
  {
   "cell_type": "markdown",
   "metadata": {},
   "source": [
    "条件を満たすB以下の整数の個数をb_cnt  \n",
    "条件を満たすA以下の整数の個数をa_cnt  \n",
    "としたとき、答えは(b_cnt - a_cnt)となる  \n",
    "\n",
    "B以下のC, Dの倍数の個数はB/C, B/Dの小数点以下切り捨ての数である  \n",
    "この時C, Dの倍数で重複しているものがあるのでC, Dの最小公倍数の倍数を引く  \n",
    "その数をBから引いた数がb_cntとなる  \n",
    "A以下の整数に対しても同じ操作を行う  "
   ]
  },
  {
   "cell_type": "code",
   "execution_count": null,
   "metadata": {},
   "outputs": [],
   "source": [
    "import sys\n",
    "import math\n",
    "input = lambda: sys.stdin.readline().rstrip()\n",
    "\n",
    "def lcm(x, y):\n",
    "    return (x * y) // math.gcd(x, y)\n",
    "\n",
    "def main():\n",
    "    a, b, c, d = map(int, input().split())\n",
    "    a_cnt, b_cnt = 0, 0\n",
    "    a -= 1\n",
    "    a_cnt = a - ((a//c + a//d) - a // lcm(c, d))\n",
    "    b_cnt = b - ((b//c + b//d) - b // lcm(c, d))\n",
    "    print(b_cnt - a_cnt)\n",
    "    \n",
    "if __name__ == '__main__':\n",
    "    main()"
   ]
  }
 ],
 "metadata": {
  "language_info": {
   "codemirror_mode": {
    "name": "ipython",
    "version": 3
   },
   "file_extension": ".py",
   "mimetype": "text/x-python",
   "name": "python",
   "nbconvert_exporter": "python",
   "pygments_lexer": "ipython3",
   "version": 3
  },
  "orig_nbformat": 2
 },
 "nbformat": 4,
 "nbformat_minor": 2
}