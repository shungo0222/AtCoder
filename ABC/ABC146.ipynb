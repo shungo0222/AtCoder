{
 "cells": [
  {
   "cell_type": "markdown",
   "metadata": {},
   "source": [
    "# [ABC146](https://atcoder.jp/contests/abc146)\n",
    "---"
   ]
  },
  {
   "cell_type": "markdown",
   "metadata": {},
   "source": [
    "## **A (AC)**"
   ]
  },
  {
   "cell_type": "code",
   "execution_count": null,
   "metadata": {},
   "outputs": [],
   "source": [
    "import sys\n",
    "input = lambda: sys.stdin.readline().rstrip()\n",
    "\n",
    "def main():\n",
    "    s = input()\n",
    "    days = ['','SAT','FRI','THU','WED','TUE','MON','SUN']\n",
    "    print(days.index(s))\n",
    "    \n",
    "if __name__ == '__main__':\n",
    "    main()"
   ]
  },
  {
   "cell_type": "markdown",
   "metadata": {},
   "source": [
    "## **B (AC)**"
   ]
  },
  {
   "cell_type": "code",
   "execution_count": null,
   "metadata": {},
   "outputs": [],
   "source": [
    "import sys\n",
    "input = lambda: sys.stdin.readline().rstrip()\n",
    "\n",
    "def main():\n",
    "    n = int(input())\n",
    "    s = list(input())\n",
    "    string = list('ABCDEFGHIJKLMNOPQRSTUVWXYZ'*2)\n",
    "    for i in range(len(s)):\n",
    "        s[i] = string[string.index(s[i])+n]\n",
    "    print(*s, sep='')\n",
    "    \n",
    "if __name__ == '__main__':\n",
    "    main()"
   ]
  },
  {
   "cell_type": "markdown",
   "metadata": {},
   "source": [
    "## **C (TLE)**"
   ]
  },
  {
   "cell_type": "code",
   "execution_count": null,
   "metadata": {},
   "outputs": [],
   "source": [
    "import sys\n",
    "input = lambda: sys.stdin.readline().rstrip()\n",
    "\n",
    "def main():\n",
    "    a, b, x = map(int, input().split())\n",
    "    ans = 0\n",
    "    for i in range(x//a, 0, -1):\n",
    "        if a*i + b*(len(str(i))) <= x:\n",
    "            ans = i\n",
    "            break\n",
    "    if ans > 10**9:\n",
    "        ans = 10**9\n",
    "    print(ans)\n",
    "            \n",
    "if __name__ == '__main__':\n",
    "    main()"
   ]
  },
  {
   "cell_type": "markdown",
   "metadata": {},
   "source": [
    "## **C (review)**"
   ]
  },
  {
   "cell_type": "markdown",
   "metadata": {},
   "source": [
    "* 二分探索"
   ]
  },
  {
   "cell_type": "code",
   "execution_count": null,
   "metadata": {},
   "outputs": [],
   "source": [
    "import sys\n",
    "input = lambda: sys.stdin.readline().rstrip()\n",
    "\n",
    "def main():\n",
    "    a, b, x = map(int, input().split())\n",
    "    left = 0\n",
    "    right = 10**9 + 1\n",
    "    while right - left > 1:\n",
    "        mid = (left + right) // 2\n",
    "        if x < a*mid + b*(len(str(mid))):\n",
    "            right = mid\n",
    "        else:\n",
    "            left = mid\n",
    "    print(left)\n",
    "            \n",
    "if __name__ == '__main__':\n",
    "    main()"
   ]
  }
 ],
 "metadata": {
  "language_info": {
   "codemirror_mode": {
    "name": "ipython",
    "version": 3
   },
   "file_extension": ".py",
   "mimetype": "text/x-python",
   "name": "python",
   "nbconvert_exporter": "python",
   "pygments_lexer": "ipython3",
   "version": 3
  },
  "orig_nbformat": 2
 },
 "nbformat": 4,
 "nbformat_minor": 2
}