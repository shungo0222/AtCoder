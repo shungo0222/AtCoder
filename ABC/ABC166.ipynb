{
 "cells": [
  {
   "cell_type": "markdown",
   "metadata": {},
   "source": [
    "# [ABC166](https://atcoder.jp/contests/abc166)\n",
    "---"
   ]
  },
  {
   "cell_type": "markdown",
   "metadata": {},
   "source": [
    "## **A (AC)**"
   ]
  },
  {
   "cell_type": "code",
   "execution_count": 1,
   "metadata": {},
   "outputs": [
    {
     "name": "stdin",
     "output_type": "stream",
     "text": [
      " ABC\n"
     ]
    }
   ],
   "source": [
    "s = input()"
   ]
  },
  {
   "cell_type": "code",
   "execution_count": 2,
   "metadata": {},
   "outputs": [
    {
     "name": "stdout",
     "output_type": "stream",
     "text": [
      "ARC\n"
     ]
    }
   ],
   "source": [
    "if(s == 'ABC'):\n",
    "    print('ARC')\n",
    "else:\n",
    "    print('ABC')"
   ]
  },
  {
   "cell_type": "markdown",
   "metadata": {},
   "source": [
    "## **B (AC)**"
   ]
  },
  {
   "cell_type": "code",
   "execution_count": 3,
   "metadata": {},
   "outputs": [
    {
     "name": "stdin",
     "output_type": "stream",
     "text": [
      " 3 2\n",
      " 2\n",
      " 1 3\n",
      " 1\n",
      " 3\n"
     ]
    },
    {
     "name": "stdout",
     "output_type": "stream",
     "text": [
      "1\n"
     ]
    }
   ],
   "source": [
    "n, k = map(int, input().split())\n",
    "i = 0\n",
    "children = set()\n",
    "while(i < k):\n",
    "    input()\n",
    "    children = children | set(map(int, input().split()))\n",
    "    i += 1\n",
    "print(n - len(children))"
   ]
  },
  {
   "cell_type": "markdown",
   "metadata": {},
   "source": [
    "## **C (TLE)**"
   ]
  },
  {
   "cell_type": "code",
   "execution_count": 4,
   "metadata": {},
   "outputs": [
    {
     "output_type": "stream",
     "name": "stdout",
     "text": "2\n"
    }
   ],
   "source": [
    "n, m = map(int, input().split())\n",
    "height = list(map(int, input().split()))\n",
    "roads = [list(map(int, input().split())) for _ in range(m)]\n",
    "ids = [i+1 for i in range(n)]\n",
    "ans = [1] * len(ids)\n",
    " \n",
    "j = 1\n",
    "for _ in range(n-1):\n",
    "    for i in range(n-j):\n",
    "        if height[i] > height[i+1]:\n",
    "            tmp_a = height[i]\n",
    "            tmp_b = ids[i]\n",
    "            height[i] = height[i+1]\n",
    "            ids[i] = ids[i+1]\n",
    "            height[i+1] = tmp_a\n",
    "            ids[i+1] = tmp_b\n",
    "    j += 1\n",
    "    \n",
    "for i in range(m):\n",
    "    if height[ids.index(roads[i][0])] == height[ids.index(roads[i][1])]:\n",
    "        ans[ids.index(roads[i][0])] = 0\n",
    "        ans[ids.index(roads[i][1])] = 0\n",
    "    else:\n",
    "        ans[min(ids.index(roads[i][0]), ids.index(roads[i][1]))] = 0\n",
    "    \n",
    "print(ans.count(1))"
   ]
  },
  {
   "cell_type": "markdown",
   "metadata": {},
   "source": [
    "## **C (review)**\n",
    "* (AC) 隣接リスト"
   ]
  },
  {
   "cell_type": "code",
   "execution_count": 7,
   "metadata": {},
   "outputs": [
    {
     "output_type": "stream",
     "name": "stdout",
     "text": "2\n"
    }
   ],
   "source": [
    "n, m = map(int, input().split())\n",
    "h = [0] + list(map(int, input().split()))\n",
    "roads = [[] for _ in range(n+1)]\n",
    "ans = 0\n",
    " \n",
    "for _ in range(m):\n",
    "    a, b = map(int, input().split())\n",
    "    roads[a].append(b)\n",
    "    roads[b].append(a)\n",
    "    \n",
    "for i in range(1, n+1):\n",
    "    for j in roads[i]:\n",
    "        if h[i] <= h[j]:\n",
    "            break\n",
    "    else:\n",
    "        ans += 1\n",
    " \n",
    "print(ans)"
   ]
  }
 ],
 "metadata": {
  "kernelspec": {
   "display_name": "Python 3",
   "language": "python",
   "name": "python3"
  },
  "language_info": {
   "codemirror_mode": {
    "name": "ipython",
    "version": 3
   },
   "file_extension": ".py",
   "mimetype": "text/x-python",
   "name": "python",
   "nbconvert_exporter": "python",
   "pygments_lexer": "ipython3",
   "version": "3.7.4-final"
  }
 },
 "nbformat": 4,
 "nbformat_minor": 4
}