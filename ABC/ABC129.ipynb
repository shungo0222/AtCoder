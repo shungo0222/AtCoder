{
 "cells": [
  {
   "cell_type": "markdown",
   "metadata": {},
   "source": [
    "# [ABC129](https://atcoder.jp/contests/abc129)\n",
    "---"
   ]
  },
  {
   "cell_type": "markdown",
   "metadata": {},
   "source": [
    "## **A (AC)**"
   ]
  },
  {
   "cell_type": "code",
   "execution_count": null,
   "metadata": {},
   "outputs": [],
   "source": [
    "import sys\n",
    "input = lambda: sys.stdin.readline().rstrip()\n",
    "\n",
    "def main():\n",
    "    p, q, r = map(int, input().split())\n",
    "    print(min(p+q, p+r, q+r))\n",
    "    \n",
    "if __name__ == '__main__':\n",
    "    main()"
   ]
  },
  {
   "cell_type": "markdown",
   "metadata": {},
   "source": [
    "## **B (AC)**"
   ]
  },
  {
   "cell_type": "code",
   "execution_count": null,
   "metadata": {},
   "outputs": [],
   "source": [
    "import sys\n",
    "input = lambda: sys.stdin.readline().rstrip()\n",
    "\n",
    "def main():\n",
    "    n = int(input())\n",
    "    w = list(map(int, input().split()))\n",
    "    ans = float('inf')\n",
    "    for t in range(n-1):\n",
    "        ans = min(ans, abs(sum(w[:t+1]) - sum(w[t+1:])))\n",
    "    print(ans)\n",
    "    \n",
    "if __name__ == '__main__':\n",
    "    main()"
   ]
  },
  {
   "cell_type": "markdown",
   "metadata": {},
   "source": [
    "## **C (分からなかった)**"
   ]
  },
  {
   "cell_type": "markdown",
   "metadata": {},
   "source": [
    "## **C (review)**"
   ]
  },
  {
   "cell_type": "markdown",
   "metadata": {},
   "source": [
    "数え上げ問題は動的計画法(DP)を使って解く  \n",
    "計算量はO(N)"
   ]
  },
  {
   "cell_type": "code",
   "execution_count": null,
   "metadata": {},
   "outputs": [],
   "source": [
    "import sys\n",
    "input = lambda: sys.stdin.readline().rstrip()\n",
    "\n",
    "def main():\n",
    "    n, m = map(int, input().split())\n",
    "    a = [0] * n\n",
    "    MOD = 10 ** 9 + 7\n",
    "    for _ in range(m):\n",
    "        a[int(input())] = 1\n",
    "    dp = [0] * (n+1)\n",
    "    dp[0] = 1\n",
    "    for i in range(n):\n",
    "        dp[i] %= MOD\n",
    "        if a[i]:\n",
    "            dp[i] = 0\n",
    "        if i + 1 <= n:\n",
    "            dp[i+1] += dp[i]\n",
    "        if i + 2 <= n:\n",
    "            dp[i+2] += dp[i]\n",
    "    print(dp[-1]%MOD)\n",
    "    \n",
    "if __name__ == '__main__':\n",
    "    main()"
   ]
  }
 ],
 "metadata": {
  "language_info": {
   "codemirror_mode": {
    "name": "ipython",
    "version": 3
   },
   "file_extension": ".py",
   "mimetype": "text/x-python",
   "name": "python",
   "nbconvert_exporter": "python",
   "pygments_lexer": "ipython3",
   "version": 3
  },
  "orig_nbformat": 2
 },
 "nbformat": 4,
 "nbformat_minor": 2
}