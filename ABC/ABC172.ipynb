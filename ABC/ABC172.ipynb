{
 "cells": [
  {
   "cell_type": "markdown",
   "metadata": {},
   "source": [
    "# [ABC172](https://atcoder.jp/contests/abc172)\n",
    "---"
   ]
  },
  {
   "cell_type": "markdown",
   "metadata": {},
   "source": [
    "## **A (AC)**"
   ]
  },
  {
   "cell_type": "code",
   "execution_count": null,
   "metadata": {},
   "outputs": [],
   "source": [
    "import sys\n",
    "input = lambda: sys.stdin.readline().rstrip()\n",
    "\n",
    "def main():\n",
    "    a = int(input())\n",
    "    print(a+(a**2)+(a**3))\n",
    "\n",
    "if __name__ == '__main__':\n",
    "    main()"
   ]
  },
  {
   "cell_type": "markdown",
   "metadata": {},
   "source": [
    "## **B (AC)**"
   ]
  },
  {
   "cell_type": "code",
   "execution_count": null,
   "metadata": {},
   "outputs": [],
   "source": [
    "import sys\n",
    "input = lambda: sys.stdin.readline().rstrip()\n",
    "\n",
    "def main():\n",
    "    S = list(input())\n",
    "    T = list(input())\n",
    "    ans = 0\n",
    "    for s, t in zip(S, T):\n",
    "        if s != t:\n",
    "            ans += 1\n",
    "    print(ans)\n",
    "\n",
    "if __name__ == '__main__':\n",
    "    main()"
   ]
  },
  {
   "cell_type": "markdown",
   "metadata": {},
   "source": [
    "## **C (WA)**"
   ]
  },
  {
   "cell_type": "code",
   "execution_count": null,
   "metadata": {},
   "outputs": [],
   "source": [
    "import sys\n",
    "input = lambda: sys.stdin.readline().rstrip()\n",
    "\n",
    "def main():\n",
    "    n, m, k = map(int, input().split())\n",
    "    A = list(map(int, input().split()))\n",
    "    B = list(map(int, input().split()))\n",
    "    time, ans = 0, 0\n",
    "    a, b = 0, 0\n",
    "    for _ in range(n+m+5):\n",
    "        if time > k:\n",
    "            print(ans-1)\n",
    "            return\n",
    "        if a < n and b < m:\n",
    "            if A[a] < B[b]:\n",
    "                time += A[a]\n",
    "                a += 1\n",
    "            else:\n",
    "                time += B[b]\n",
    "                b += 1\n",
    "        elif a == n and b < m:\n",
    "            time += B[b]\n",
    "            b += 1\n",
    "        elif a < n and b == m:\n",
    "            time += A[a]\n",
    "            a += 1\n",
    "        else:\n",
    "            print(ans)\n",
    "            return\n",
    "        ans += 1\n",
    "\n",
    "if __name__ == '__main__':\n",
    "    main()"
   ]
  },
  {
   "cell_type": "markdown",
   "metadata": {},
   "source": [
    "## **D (TLE)**"
   ]
  },
  {
   "cell_type": "code",
   "execution_count": null,
   "metadata": {},
   "outputs": [],
   "source": [
    "import sys\n",
    "from numba import njit, i8\n",
    "input = lambda: sys.stdin.readline().rstrip()\n",
    "\n",
    "@njit(i8(i8), cache=True)\n",
    "def trial_division(n):\n",
    "    if n < 2:\n",
    "        return n\n",
    "    prime_factors = 1\n",
    "    e = 0\n",
    "    for i in range(2, int(n**0.5)+1):\n",
    "        while n % i == 0:\n",
    "            e += 1\n",
    "            n //= i\n",
    "        if e > 0:\n",
    "            prime_factors *= (e + 1)\n",
    "        e = 0\n",
    "    if n > 1:\n",
    "        prime_factors *= 2\n",
    "\n",
    "    return prime_factors\n",
    "\n",
    "def main():\n",
    "    n = int(input())\n",
    "    sum_ = 0\n",
    "    for i in range(1, n+1):\n",
    "        sum_ += i * trial_division(i)\n",
    "    print(sum_)\n",
    "\n",
    "if __name__ == '__main__':\n",
    "    main()"
   ]
  }
 ],
 "metadata": {
  "language_info": {
   "codemirror_mode": {
    "name": "ipython",
    "version": 3
   },
   "file_extension": ".py",
   "mimetype": "text/x-python",
   "name": "python",
   "nbconvert_exporter": "python",
   "pygments_lexer": "ipython3",
   "version": 3
  },
  "orig_nbformat": 2
 },
 "nbformat": 4,
 "nbformat_minor": 2
}