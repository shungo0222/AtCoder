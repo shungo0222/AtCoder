{
 "cells": [
  {
   "cell_type": "markdown",
   "metadata": {},
   "source": [
    "# [ABC133](https://atcoder.jp/contests/abc133)\n",
    "---"
   ]
  },
  {
   "cell_type": "markdown",
   "metadata": {},
   "source": [
    "## **A (AC)**"
   ]
  },
  {
   "cell_type": "code",
   "execution_count": null,
   "metadata": {},
   "outputs": [],
   "source": [
    "import sys\n",
    "input = lambda: sys.stdin.readline().rstrip()\n",
    "\n",
    "def main():\n",
    "    n, a, b = map(int, input().split())\n",
    "    print(min(n*a, b))\n",
    "\n",
    "if __name__ == '__main__':\n",
    "    main()"
   ]
  },
  {
   "cell_type": "markdown",
   "metadata": {},
   "source": [
    "## **B (AC)**"
   ]
  },
  {
   "cell_type": "code",
   "execution_count": null,
   "metadata": {},
   "outputs": [],
   "source": [
    "import sys\n",
    "import itertools\n",
    "import math\n",
    "input = lambda: sys.stdin.readline().rstrip()\n",
    "\n",
    "def main():\n",
    "    n, d = map(int, input().split())\n",
    "    x = []\n",
    "    for _ in range(n):\n",
    "        x.append(list(map(int, input().split())))\n",
    "    ans = 0\n",
    "    for comb in itertools.combinations(range(n), 2):\n",
    "        dis = 0\n",
    "        for i, j in zip(x[comb[0]], x[comb[1]]):\n",
    "            dis += (i - j)**2\n",
    "        if str(math.sqrt(dis)).split('.')[-1] == '0':\n",
    "            ans += 1\n",
    "    print(ans)\n",
    "\n",
    "if __name__ == '__main__':\n",
    "    main()"
   ]
  },
  {
   "cell_type": "markdown",
   "metadata": {},
   "source": [
    "## **C (分からなかった)**"
   ]
  },
  {
   "cell_type": "markdown",
   "metadata": {},
   "source": [
    "## **C (review)**"
   ]
  },
  {
   "cell_type": "markdown",
   "metadata": {},
   "source": [
    "iとjを全探索すると、O((R-L)<sup>2</sup>)となってしまってTLEしてしまう  \n",
    "よって、modの周期性を利用して計算量を減らす  \n",
    "\n",
    "* **最小値０をとる場合**  \n",
    "=>mod2019の最小の値は0であり、i*jが2019の倍数であればよい  \n",
    "=>iとjそれぞれのmod2019の値が0であればよい  \n",
    "=>ある数nはn+2019と合同になる  \n",
    "=>LからRの間に数字が2019以上あればよい  \n",
    "=>R-Lが2018以上であればよい\n",
    "\n",
    "* **それ以外の場合**  \n",
    "=>iとjの調べるべき数は多くても2019<sup>2</sup>  \n",
    "=>全探索が可能"
   ]
  },
  {
   "cell_type": "code",
   "execution_count": null,
   "metadata": {},
   "outputs": [],
   "source": [
    "import sys\n",
    "import itertools\n",
    "input = lambda: sys.stdin.readline().rstrip()\n",
    "\n",
    "def main():\n",
    "    l, r = map(int, input().split())\n",
    "    if r - l >= 2018:\n",
    "        print(0)\n",
    "    else:\n",
    "        ans = 2018\n",
    "        for i, j in itertools.combinations(range(l, r+1), 2):\n",
    "            ans = min(ans, i * j % 2019)\n",
    "        print(ans)\n",
    "    \n",
    "if __name__ == '__main__':\n",
    "    main()"
   ]
  }
 ],
 "metadata": {
  "language_info": {
   "codemirror_mode": {
    "name": "ipython",
    "version": 3
   },
   "file_extension": ".py",
   "mimetype": "text/x-python",
   "name": "python",
   "nbconvert_exporter": "python",
   "pygments_lexer": "ipython3",
   "version": 3
  },
  "orig_nbformat": 2
 },
 "nbformat": 4,
 "nbformat_minor": 2
}