{
 "cells": [
  {
   "cell_type": "markdown",
   "metadata": {},
   "source": [
    "# [ABC137](https://atcoder.jp/contests/abc137)\n",
    "---"
   ]
  },
  {
   "cell_type": "markdown",
   "metadata": {},
   "source": [
    "## **A (AC)**"
   ]
  },
  {
   "cell_type": "code",
   "execution_count": null,
   "metadata": {},
   "outputs": [],
   "source": [
    "import sys\n",
    "input = lambda: sys.stdin.readline().rstrip()\n",
    "\n",
    "def main():\n",
    "    a, b = map(int, input().split())\n",
    "    print(max(a+b, a-b, a*b))\n",
    "\n",
    "if __name__ == '__main__':\n",
    "    main()"
   ]
  },
  {
   "cell_type": "markdown",
   "metadata": {},
   "source": [
    "## **B (AC)**"
   ]
  },
  {
   "cell_type": "code",
   "execution_count": null,
   "metadata": {},
   "outputs": [],
   "source": [
    "import sys\n",
    "input = lambda: sys.stdin.readline().rstrip()\n",
    "\n",
    "def main():\n",
    "    k, x = map(int, input().split())\n",
    "    black = [i for i in range(x-(k-1), x+k)]\n",
    "    print(*black)\n",
    "\n",
    "if __name__ == '__main__':\n",
    "    main()"
   ]
  },
  {
   "cell_type": "markdown",
   "metadata": {},
   "source": [
    "## **C (AC)**"
   ]
  },
  {
   "cell_type": "code",
   "execution_count": null,
   "metadata": {},
   "outputs": [],
   "source": [
    "import sys\n",
    "import math\n",
    "input = lambda: sys.stdin.readline().rstrip()\n",
    "\n",
    "def main():\n",
    "    n = int(input())\n",
    "    string = dict()\n",
    "    ans = 0\n",
    "    for _ in range(n):\n",
    "        s = ''.join(sorted(input()))\n",
    "        if s in string:\n",
    "            string[s] += 1\n",
    "        else:\n",
    "            string[s] = 1\n",
    "    for i in string.values():\n",
    "        if i > 1:\n",
    "            ans += math.factorial(i)//(2*math.factorial(i-2))\n",
    "    print(ans)\n",
    "\n",
    "if __name__ == '__main__':\n",
    "    main()"
   ]
  }
 ],
 "metadata": {
  "language_info": {
   "codemirror_mode": {
    "name": "ipython",
    "version": 3
   },
   "file_extension": ".py",
   "mimetype": "text/x-python",
   "name": "python",
   "nbconvert_exporter": "python",
   "pygments_lexer": "ipython3",
   "version": 3
  },
  "orig_nbformat": 2
 },
 "nbformat": 4,
 "nbformat_minor": 2
}