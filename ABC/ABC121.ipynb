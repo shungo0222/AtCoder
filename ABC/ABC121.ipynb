{
 "cells": [
  {
   "cell_type": "markdown",
   "metadata": {},
   "source": [
    "# [ABC121](https://atcoder.jp/contests/abc121)\n",
    "---"
   ]
  },
  {
   "cell_type": "markdown",
   "metadata": {},
   "source": [
    "## **A (AC)**"
   ]
  },
  {
   "cell_type": "code",
   "execution_count": null,
   "metadata": {},
   "outputs": [],
   "source": [
    "import sys\n",
    "input = lambda: sys.stdin.readline().rstrip()\n",
    "\n",
    "def main():\n",
    "    H, W = map(int, input().split())\n",
    "    h, w = map(int, input().split())\n",
    "    print((H-h)*(W-w))\n",
    "            \n",
    "if __name__ == '__main__':\n",
    "    main()"
   ]
  },
  {
   "cell_type": "markdown",
   "metadata": {},
   "source": [
    "## **B (AC)**"
   ]
  },
  {
   "cell_type": "code",
   "execution_count": null,
   "metadata": {},
   "outputs": [],
   "source": [
    "import sys\n",
    "input = lambda: sys.stdin.readline().rstrip()\n",
    "\n",
    "def main():\n",
    "    n, m, c = map(int, input().split())\n",
    "    b = list(map(int, input().split()))\n",
    "    a = [list(map(int, input().split())) for _ in range(n)]\n",
    "    ans = 0\n",
    "    for i in range(n):\n",
    "        sum_ = 0\n",
    "        for j in range(m):\n",
    "            sum_ += a[i][j] * b[j]\n",
    "        sum_ += c\n",
    "        if sum_ > 0:\n",
    "            ans += 1\n",
    "    print(ans)\n",
    "            \n",
    "if __name__ == '__main__':\n",
    "    main()"
   ]
  },
  {
   "cell_type": "markdown",
   "metadata": {},
   "source": [
    "## **C (AC)**"
   ]
  },
  {
   "cell_type": "code",
   "execution_count": null,
   "metadata": {},
   "outputs": [],
   "source": [
    "import sys\n",
    "input = lambda: sys.stdin.readline().rstrip()\n",
    "\n",
    "def main():\n",
    "    n, m = map(int, input().split())\n",
    "    drinks = list()\n",
    "    ans = 0\n",
    "    for _ in range(n):\n",
    "        drinks.append(list(map(int, input().split())))\n",
    "    drinks = sorted(drinks, key=lambda x: x[0])\n",
    "    for drink in drinks:\n",
    "        if drink[1] >= m:\n",
    "            ans += drink[0] * m\n",
    "            break\n",
    "        else:\n",
    "            ans += drink[0] * drink[1]\n",
    "            m -= drink[1]\n",
    "    print(ans)\n",
    "            \n",
    "if __name__ == '__main__':\n",
    "    main()"
   ]
  }
 ],
 "metadata": {
  "language_info": {
   "codemirror_mode": {
    "name": "ipython",
    "version": 3
   },
   "file_extension": ".py",
   "mimetype": "text/x-python",
   "name": "python",
   "nbconvert_exporter": "python",
   "pygments_lexer": "ipython3",
   "version": 3
  },
  "orig_nbformat": 2
 },
 "nbformat": 4,
 "nbformat_minor": 2
}