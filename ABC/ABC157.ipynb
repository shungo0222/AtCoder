{
 "cells": [
  {
   "cell_type": "markdown",
   "metadata": {},
   "source": [
    "# [ABC157](https://atcoder.jp/contests/abc157)\n",
    "---"
   ]
  },
  {
   "cell_type": "markdown",
   "metadata": {},
   "source": [
    "## **A (AC)**"
   ]
  },
  {
   "cell_type": "code",
   "execution_count": 1,
   "metadata": {},
   "outputs": [
    {
     "output_type": "stream",
     "name": "stdout",
     "text": "3\n"
    }
   ],
   "source": [
    "import sys\n",
    "# input = lambda: sys.stdin.readline().rstrip()\n",
    " \n",
    "def main():\n",
    "    n = int(input())\n",
    "    if n % 2 == 0:\n",
    "        print(n//2)\n",
    "    else:\n",
    "        print(n//2+1)\n",
    " \n",
    "if __name__ == '__main__':\n",
    "    main()"
   ]
  },
  {
   "cell_type": "markdown",
   "metadata": {},
   "source": [
    "## **B (AC)**"
   ]
  },
  {
   "cell_type": "code",
   "execution_count": null,
   "metadata": {},
   "outputs": [],
   "source": [
    "import sys\n",
    "# input = lambda: sys.stdin.readline().rstrip()\n",
    " \n",
    "def main():\n",
    "    As = [list(map(int, input().split())) for _ in range(3)]\n",
    "    n = int(input())\n",
    "    Bs = [int(input()) for _ in range(n)]\n",
    "    \n",
    "    for i in range(n):\n",
    "        for j in range(3):\n",
    "            for k in range(3):\n",
    "                if Bs[i] == As[j][k]:\n",
    "                    As[j][k] = 0\n",
    "                    if (k in [0,2] and j in [0,2]) or (j == 1 and k == 1):\n",
    "                        if (As[0][0] == 0 and As[1][1]  == 0 and As[2][2] == 0) or (As[0][2] == 0 and As[1][1]  == 0 and As[2][0] == 0):\n",
    "                            print('Yes')\n",
    "                            return\n",
    "                    if (As[j][0] == 0 and As[j][1] == 0 and As[j][2] == 0) or (As[0][k] == 0 and As[1][k] == 0 and As[2][k] == 0):\n",
    "                        print('Yes')\n",
    "                        return\n",
    "    print('No')\n",
    " \n",
    "if __name__ == '__main__':\n",
    "    main()"
   ]
  },
  {
   "cell_type": "markdown",
   "metadata": {},
   "source": [
    "## **C (AC)**"
   ]
  },
  {
   "cell_type": "markdown",
   "metadata": {},
   "source": [
    "全探索"
   ]
  },
  {
   "cell_type": "code",
   "execution_count": 5,
   "metadata": {},
   "outputs": [
    {
     "output_type": "stream",
     "name": "stdout",
     "text": "-1\n"
    }
   ],
   "source": [
    "import sys\n",
    "# input = lambda: sys.stdin.readline().rstrip()\n",
    " \n",
    "def main():\n",
    "    n, m = map(int, input().split())\n",
    "    sc = [list(map(int, input().split())) for _ in range(m)]\n",
    "    \n",
    "    if n == 1:\n",
    "        start = 0\n",
    "        stop = 10\n",
    "    elif n == 2:\n",
    "        start = 10\n",
    "        stop = 100\n",
    "    else:\n",
    "        start = 100\n",
    "        stop = 1000\n",
    "    \n",
    "    for i in range(start, stop):\n",
    "        num = [i for i in str(i)]\n",
    "        flag = True\n",
    "        for j in range(m):\n",
    "            if num[sc[j][0] - 1] != str(sc[j][1]):\n",
    "                flag = False\n",
    "        if flag:\n",
    "            print(''.join(num))\n",
    "            return\n",
    "    else:\n",
    "        print(-1)\n",
    "            \n",
    " \n",
    "if __name__ == '__main__':\n",
    "    main()"
   ]
  }
 ],
 "metadata": {
  "language_info": {
   "codemirror_mode": {
    "name": "ipython",
    "version": 3
   },
   "file_extension": ".py",
   "mimetype": "text/x-python",
   "name": "python",
   "nbconvert_exporter": "python",
   "pygments_lexer": "ipython3",
   "version": "3.7.4-final"
  },
  "orig_nbformat": 2,
  "kernelspec": {
   "name": "python3",
   "display_name": "Python 3"
  }
 },
 "nbformat": 4,
 "nbformat_minor": 2
}