{
 "cells": [
  {
   "cell_type": "markdown",
   "metadata": {},
   "source": [
    "# [ABC170](https://atcoder.jp/contests/abc170)\n",
    "---"
   ]
  },
  {
   "cell_type": "markdown",
   "metadata": {},
   "source": [
    "## **A (AC)**"
   ]
  },
  {
   "cell_type": "code",
   "execution_count": null,
   "metadata": {},
   "outputs": [],
   "source": [
    "import sys\n",
    "input = lambda: sys.stdin.readline().rstrip()\n",
    "\n",
    "def main():\n",
    "    x = list(map(int, input().split()))\n",
    "    print(x.index(0)+1)\n",
    "\n",
    "if __name__ == '__main__':\n",
    "    main()"
   ]
  },
  {
   "cell_type": "markdown",
   "metadata": {},
   "source": [
    "## **B (AC)**"
   ]
  },
  {
   "cell_type": "code",
   "execution_count": null,
   "metadata": {},
   "outputs": [],
   "source": [
    "import sys\n",
    "input = lambda: sys.stdin.readline().rstrip()\n",
    "\n",
    "def main():\n",
    "    x, y = map(int, input().split())\n",
    "    for i in range(x+1):\n",
    "        if (i * 2) + (x-i) * 4 == y:\n",
    "            print('Yes')\n",
    "            return\n",
    "    print('No')\n",
    "\n",
    "if __name__ == '__main__':\n",
    "    main()"
   ]
  },
  {
   "cell_type": "markdown",
   "metadata": {},
   "source": [
    "## **C (AC)**"
   ]
  },
  {
   "cell_type": "code",
   "execution_count": null,
   "metadata": {},
   "outputs": [],
   "source": [
    "import sys\n",
    "input = lambda: sys.stdin.readline().rstrip()\n",
    "\n",
    "def main():\n",
    "    x, n = map(int, input().split())\n",
    "    p = list(map(int, input().split()))\n",
    "    add = 1\n",
    "    if x not in p:\n",
    "        print(x)\n",
    "    else:\n",
    "        while True:\n",
    "            if (x - add) not in p:\n",
    "                print(x - add)\n",
    "                return\n",
    "            elif (x + add) not in p:\n",
    "                print(x + add)\n",
    "                return\n",
    "            else:\n",
    "                add += 1\n",
    "\n",
    "if __name__ == '__main__':\n",
    "    main()"
   ]
  },
  {
   "cell_type": "markdown",
   "metadata": {},
   "source": [
    "## **D (WA)**"
   ]
  },
  {
   "cell_type": "code",
   "execution_count": null,
   "metadata": {},
   "outputs": [],
   "source": [
    "import sys\n",
    "import numpy as np\n",
    "input = lambda: sys.stdin.readline().rstrip()\n",
    "\n",
    "def main():\n",
    "    n = int(input())\n",
    "    a = list(map(int, input().split()))\n",
    "    a = sorted([i for i in a if a.count(i) == 1])\n",
    "    a = np.array(a)\n",
    "    ans = []\n",
    "    if len(a) == 0:\n",
    "        print(0)\n",
    "    else:\n",
    "        while a != []:\n",
    "            ans.append(a[0])\n",
    "            a = a[a%a[0] != 0]\n",
    "        print(len(ans)+1)\n",
    "    \n",
    "if __name__ == '__main__':\n",
    "    main()"
   ]
  },
  {
   "cell_type": "markdown",
   "metadata": {},
   "source": [
    "## **D (review)**"
   ]
  },
  {
   "cell_type": "markdown",
   "metadata": {},
   "source": [
    "エラトステネスの篩と同じように探索リストを作り先頭の数の倍数をふるい落としていく"
   ]
  },
  {
   "cell_type": "code",
   "execution_count": null,
   "metadata": {},
   "outputs": [],
   "source": [
    "import sys\n",
    "import collections\n",
    "input = lambda: sys.stdin.readline().rstrip()\n",
    "\n",
    "def main():\n",
    "    n = int(input())\n",
    "    a = sorted([int(i) for i in input().split()])\n",
    "    cnt_list = collections.Counter(a)\n",
    "    search_list = [0] * (a[-1]+1)\n",
    "    ans = 0\n",
    "    for num, cnt in cnt_list.items():\n",
    "        search_list[num] = cnt\n",
    "    for i in a:\n",
    "        if search_list[i] == 1:\n",
    "            ans += 1\n",
    "        for j in range(i, a[-1]+1, i):\n",
    "            search_list[j] = 0\n",
    "    print(ans)\n",
    "    \n",
    "if __name__ == '__main__':\n",
    "    main()"
   ]
  }
 ],
 "metadata": {
  "language_info": {
   "codemirror_mode": {
    "name": "ipython",
    "version": 3
   },
   "file_extension": ".py",
   "mimetype": "text/x-python",
   "name": "python",
   "nbconvert_exporter": "python",
   "pygments_lexer": "ipython3",
   "version": 3
  },
  "orig_nbformat": 2
 },
 "nbformat": 4,
 "nbformat_minor": 2
}