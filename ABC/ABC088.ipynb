{
 "cells": [
  {
   "cell_type": "markdown",
   "metadata": {},
   "source": [
    "# [ABC088](https://atcoder.jp/contests/abc088)\n",
    "---"
   ]
  },
  {
   "cell_type": "markdown",
   "metadata": {},
   "source": [
    "## **A (AC)**"
   ]
  },
  {
   "cell_type": "code",
   "execution_count": 1,
   "metadata": {},
   "outputs": [
    {
     "output_type": "stream",
     "name": "stdout",
     "text": "Yes\n"
    }
   ],
   "source": [
    "import sys\n",
    "# input = lambda: sys.stdin.readline().rstrip()\n",
    "\n",
    "def main():\n",
    "    n = int(input())\n",
    "    a = int(input())\n",
    "    if n % 500 <= a:\n",
    "        print('Yes')\n",
    "    else:\n",
    "        print('No')\n",
    "\n",
    "if __name__ == '__main__':\n",
    "    main()"
   ]
  },
  {
   "cell_type": "markdown",
   "metadata": {},
   "source": [
    "## **B (AC)**"
   ]
  },
  {
   "cell_type": "code",
   "execution_count": null,
   "metadata": {},
   "outputs": [],
   "source": [
    "import sys\n",
    "# input = lambda: sys.stdin.readline().rstrip()\n",
    "\n",
    "def main():\n",
    "    n = int(input())\n",
    "    a = sorted(list(map(int, input().split())), reverse=True)\n",
    "    ans = 0\n",
    "    j = 1\n",
    "    for i in range(n):\n",
    "        ans += a[i] * j\n",
    "        j *= -1\n",
    "    print(ans)\n",
    "\n",
    "if __name__ == '__main__':\n",
    "    main()"
   ]
  },
  {
   "cell_type": "markdown",
   "metadata": {},
   "source": [
    "よりスマートな書き方"
   ]
  },
  {
   "cell_type": "code",
   "execution_count": null,
   "metadata": {},
   "outputs": [],
   "source": [
    "import sys\n",
    "# input = lambda: sys.stdin.readline().rstrip()\n",
    "\n",
    "def main():\n",
    "    n = int(input())\n",
    "    a = sorted(list(map(int, input().split())), reverse=True)\n",
    "    print(sum(a[::2]) - sum(a[1::2]))\n",
    "\n",
    "if __name__ == '__main__':\n",
    "    main()"
   ]
  }
 ],
 "metadata": {
  "language_info": {
   "codemirror_mode": {
    "name": "ipython",
    "version": 3
   },
   "file_extension": ".py",
   "mimetype": "text/x-python",
   "name": "python",
   "nbconvert_exporter": "python",
   "pygments_lexer": "ipython3",
   "version": "3.7.4-final"
  },
  "orig_nbformat": 2,
  "kernelspec": {
   "name": "python3",
   "display_name": "Python 3"
  }
 },
 "nbformat": 4,
 "nbformat_minor": 2
}