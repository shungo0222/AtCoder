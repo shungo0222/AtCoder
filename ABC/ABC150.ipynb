{
 "cells": [
  {
   "cell_type": "markdown",
   "metadata": {},
   "source": [
    "# [ABC150](https://atcoder.jp/contests/abc150)\n",
    "---"
   ]
  },
  {
   "cell_type": "markdown",
   "metadata": {},
   "source": [
    "## **A (AC)**"
   ]
  },
  {
   "cell_type": "code",
   "execution_count": 1,
   "metadata": {},
   "outputs": [
    {
     "output_type": "stream",
     "name": "stdout",
     "text": "Yes\n"
    }
   ],
   "source": [
    "import sys\n",
    "# input = lambda: sys.stdin.readline().rstrip()\n",
    " \n",
    "def main():\n",
    "    k, x = map(int, input().split())\n",
    "    if x <= k * 500:\n",
    "        print('Yes')\n",
    "    else:\n",
    "        print('No')   \n",
    " \n",
    "if __name__ == '__main__':\n",
    "    main()"
   ]
  },
  {
   "cell_type": "markdown",
   "metadata": {},
   "source": [
    "## **B (AC)**"
   ]
  },
  {
   "cell_type": "code",
   "execution_count": 3,
   "metadata": {},
   "outputs": [
    {
     "output_type": "stream",
     "name": "stdout",
     "text": "2\n"
    }
   ],
   "source": [
    "import sys\n",
    "# input = lambda: sys.stdin.readline().rstrip()\n",
    " \n",
    "def main():\n",
    "    n = int(input())\n",
    "    s = list(input())\n",
    "    ans = 0\n",
    "    for i in range(n-2):\n",
    "        if s[i] == 'A' and s[i+1] == 'B' and s[i+2] == 'C':\n",
    "            ans += 1\n",
    "    print(ans)\n",
    " \n",
    "if __name__ == '__main__':\n",
    "    main()"
   ]
  },
  {
   "cell_type": "markdown",
   "metadata": {},
   "source": [
    "## **C (AC)**"
   ]
  },
  {
   "cell_type": "code",
   "execution_count": 5,
   "metadata": {},
   "outputs": [
    {
     "output_type": "stream",
     "name": "stdout",
     "text": "3\n"
    }
   ],
   "source": [
    "import sys\n",
    "import itertools\n",
    "# input = lambda: sys.stdin.readline().rstrip()\n",
    "\n",
    "def main():\n",
    "    n = int(input())\n",
    "    p = tuple([int(i) for i in input().split()])\n",
    "    q = tuple([int(i) for i in input().split()])\n",
    "    seq = tuple(range(1, n+1))\n",
    "    num_p = 0\n",
    "    num_q = 0\n",
    "    cnt = 0\n",
    "    for i in itertools.permutations(seq):\n",
    "        cnt += 1\n",
    "        if i == p:\n",
    "            num_p = cnt\n",
    "        if i == q:\n",
    "            num_q = cnt\n",
    "    print(abs(num_p-num_q))\n",
    "\n",
    "if __name__ == '__main__':\n",
    "    main()"
   ]
  }
 ],
 "metadata": {
  "language_info": {
   "codemirror_mode": {
    "name": "ipython",
    "version": 3
   },
   "file_extension": ".py",
   "mimetype": "text/x-python",
   "name": "python",
   "nbconvert_exporter": "python",
   "pygments_lexer": "ipython3",
   "version": "3.7.4-final"
  },
  "orig_nbformat": 2,
  "kernelspec": {
   "name": "python3",
   "display_name": "Python 3"
  }
 },
 "nbformat": 4,
 "nbformat_minor": 2
}