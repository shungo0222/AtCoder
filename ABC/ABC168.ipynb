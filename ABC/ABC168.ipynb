{
 "cells": [
  {
   "cell_type": "markdown",
   "metadata": {},
   "source": [
    "# [ABC168](https://atcoder.jp/contests/abc168)\n",
    "---"
   ]
  },
  {
   "cell_type": "markdown",
   "metadata": {},
   "source": [
    "## **A (AC)**"
   ]
  },
  {
   "cell_type": "code",
   "execution_count": 2,
   "metadata": {},
   "outputs": [
    {
     "name": "stdin",
     "output_type": "stream",
     "text": [
      " 16\n"
     ]
    },
    {
     "name": "stdout",
     "output_type": "stream",
     "text": [
      "pon\n"
     ]
    }
   ],
   "source": [
    "N = int(input())\n",
    " \n",
    "num = N % 10\n",
    " \n",
    "if ((num==2)or(num==4)or(num==5)or(num==7)or(num==9)):\n",
    "\tprint('hon')\n",
    "elif ((num==0)or(num==1)or(num==6)or(num==8)):\n",
    "\tprint('pon')\n",
    "else:\n",
    "    print('bon')"
   ]
  },
  {
   "cell_type": "markdown",
   "metadata": {},
   "source": [
    "## **B (AC)**"
   ]
  },
  {
   "cell_type": "code",
   "execution_count": 3,
   "metadata": {},
   "outputs": [
    {
     "name": "stdin",
     "output_type": "stream",
     "text": [
      " 7\n",
      " nikoandsolstice\n"
     ]
    },
    {
     "name": "stdout",
     "output_type": "stream",
     "text": [
      "nikoand...\n"
     ]
    }
   ],
   "source": [
    "n = int(input())\n",
    "s = input()\n",
    " \n",
    "if (len(s) <= n):\n",
    "    print(s)\n",
    "else:\n",
    "    print(s[:n] + '...')"
   ]
  },
  {
   "cell_type": "markdown",
   "metadata": {},
   "source": [
    "## **C (WA)**"
   ]
  },
  {
   "cell_type": "code",
   "execution_count": 4,
   "metadata": {},
   "outputs": [
    {
     "name": "stdin",
     "output_type": "stream",
     "text": [
      " 3 4 9 0\n"
     ]
    },
    {
     "name": "stdout",
     "output_type": "stream",
     "text": [
      "5.482617913582772\n"
     ]
    }
   ],
   "source": [
    "import math\n",
    " \n",
    "nums = list(map(int,input().split()))\n",
    "a = nums[0]\n",
    "b = nums[1]\n",
    "h = nums[2]\n",
    "m = nums[3]\n",
    " \n",
    "h_deg = h * 0.5\n",
    "m_deg = m * 6\n",
    " \n",
    "if (abs(h_deg - m_deg) < 180):\n",
    "    deg = abs(h_deg - m_deg)\n",
    "else:\n",
    "    deg = 360 - abs(h_deg - m_deg)\n",
    "    \n",
    "cos = math.cos(deg)\n",
    "    \n",
    "print(math.sqrt((a**2) + (b**2) - (2*a*b*cos)))"
   ]
  },
  {
   "cell_type": "markdown",
   "metadata": {},
   "source": [
    "## **C (review)**"
   ]
  },
  {
   "cell_type": "markdown",
   "metadata": {},
   "source": [
    "1. 余弦定理"
   ]
  },
  {
   "cell_type": "code",
   "execution_count": 5,
   "metadata": {},
   "outputs": [
    {
     "name": "stdin",
     "output_type": "stream",
     "text": [
      " 3 4 9 0\n"
     ]
    },
    {
     "name": "stdout",
     "output_type": "stream",
     "text": [
      "5.0\n"
     ]
    }
   ],
   "source": [
    "import math\n",
    "\n",
    "a, b, h, m = list(map(int,input().split()))\n",
    "\n",
    "h_deg = (60*h + m) * (math.pi*2 / 720)\n",
    "m_deg = m * (math.pi*2 / 60)\n",
    "\n",
    "cos = math.cos(abs(h_deg - m_deg))\n",
    " \n",
    "print(math.sqrt((a*a) + (b*b) - (2*a*b*cos)))"
   ]
  },
  {
   "cell_type": "markdown",
   "metadata": {},
   "source": [
    "2.　ユークリッド距離"
   ]
  },
  {
   "cell_type": "code",
   "execution_count": 1,
   "metadata": {},
   "outputs": [
    {
     "name": "stdin",
     "output_type": "stream",
     "text": [
      " 3 4 10 40\n"
     ]
    },
    {
     "name": "stdout",
     "output_type": "stream",
     "text": [
      "4.564257194330056\n"
     ]
    }
   ],
   "source": [
    "import math\n",
    "import numpy as np\n",
    "\n",
    "a, b, h, m = list(map(int, input().split()))\n",
    "\n",
    "h_deg = (h*60 + m) * (math.pi*2 / 720)\n",
    "m_deg = m * (math.pi*2 / 60)\n",
    "\n",
    "a_x = a * math.cos(h_deg)\n",
    "a_y = a * math.sin(h_deg)\n",
    "b_x = b * math.cos(m_deg)\n",
    "b_y = b * math.sin(m_deg)\n",
    "\n",
    "x_vec = np.array([a_x-b_x,a_y-b_y])\n",
    "\n",
    "print(np.linalg.norm(x_vec, ord=2))  # measure the norm of the vector (L2 norm)"
   ]
  }
 ],
 "metadata": {
  "kernelspec": {
   "display_name": "Python 3",
   "language": "python",
   "name": "python3"
  },
  "language_info": {
   "codemirror_mode": {
    "name": "ipython",
    "version": 3
   },
   "file_extension": ".py",
   "mimetype": "text/x-python",
   "name": "python",
   "nbconvert_exporter": "python",
   "pygments_lexer": "ipython3",
   "version": "3.7.6"
  },
  "toc-autonumbering": false,
  "toc-showcode": true,
  "toc-showmarkdowntxt": false,
  "toc-showtags": false
 },
 "nbformat": 4,
 "nbformat_minor": 4
}
