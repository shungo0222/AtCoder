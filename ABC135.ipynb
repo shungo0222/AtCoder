{
 "cells": [
  {
   "cell_type": "markdown",
   "metadata": {},
   "source": [
    "# [ABC135](https://atcoder.jp/contests/abc135)\n",
    "---"
   ]
  },
  {
   "cell_type": "markdown",
   "metadata": {},
   "source": [
    "## **A (AC)**"
   ]
  },
  {
   "cell_type": "code",
   "execution_count": null,
   "metadata": {},
   "outputs": [],
   "source": [
    "import sys\n",
    "input = lambda: sys.stdin.readline().rstrip()\n",
    "\n",
    "def main():\n",
    "    a, b = map(int, input().split())\n",
    "    if (a - b) % 2 == 0:\n",
    "        print(abs(a - b) // 2 + min(a, b))\n",
    "    else:\n",
    "        print('IMPOSSIBLE')\n",
    "\n",
    "if __name__ == '__main__':\n",
    "    main()"
   ]
  },
  {
   "cell_type": "markdown",
   "metadata": {},
   "source": [
    "## **B (AC)**"
   ]
  },
  {
   "cell_type": "code",
   "execution_count": null,
   "metadata": {},
   "outputs": [],
   "source": [
    "import sys\n",
    "input = lambda: sys.stdin.readline().rstrip()\n",
    "\n",
    "def main():\n",
    "    n = int(input())\n",
    "    p = list(map(int, input().split()))\n",
    "    check = [i for i in range(1, n+1)]\n",
    "    cnt = 0\n",
    "    for a, b in zip(p, check):\n",
    "        if a != b:\n",
    "            cnt += 1\n",
    "    if cnt == 0 or cnt == 2:\n",
    "        print('YES')\n",
    "    else:\n",
    "        print('NO')\n",
    "\n",
    "if __name__ == '__main__':\n",
    "    main()"
   ]
  },
  {
   "cell_type": "markdown",
   "metadata": {},
   "source": [
    "## **C (AC)**"
   ]
  },
  {
   "cell_type": "code",
   "execution_count": null,
   "metadata": {},
   "outputs": [],
   "source": [
    "import sys\n",
    "input = lambda: sys.stdin.readline().rstrip()\n",
    "\n",
    "def main():\n",
    "    n = int(input())\n",
    "    a = list(map(int, input().split()))\n",
    "    b = list(map(int, input().split()))\n",
    "    ans = 0\n",
    "    for i in range(n):\n",
    "        if b[i] >= a[i]:\n",
    "            ans += a[i]\n",
    "            b[i] -= a[i]\n",
    "            if b[i] >= a[i+1]:\n",
    "                ans += a[i+1]\n",
    "                a[i+1] = 0\n",
    "            else:\n",
    "                ans += b[i]\n",
    "                a[i+1] -= b[i]\n",
    "        else:\n",
    "            ans += b[i]\n",
    "    print(ans)\n",
    "\n",
    "if __name__ == '__main__':\n",
    "    main()"
   ]
  }
 ],
 "metadata": {
  "language_info": {
   "codemirror_mode": {
    "name": "ipython",
    "version": 3
   },
   "file_extension": ".py",
   "mimetype": "text/x-python",
   "name": "python",
   "nbconvert_exporter": "python",
   "pygments_lexer": "ipython3",
   "version": 3
  },
  "orig_nbformat": 2
 },
 "nbformat": 4,
 "nbformat_minor": 2
}