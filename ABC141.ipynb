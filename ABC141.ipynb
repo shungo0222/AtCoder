{
 "cells": [
  {
   "cell_type": "markdown",
   "metadata": {},
   "source": [
    "# [ABC141](https://atcoder.jp/contests/abc141)\n",
    "---"
   ]
  },
  {
   "cell_type": "markdown",
   "metadata": {},
   "source": [
    "## **A (AC)**"
   ]
  },
  {
   "cell_type": "code",
   "execution_count": null,
   "metadata": {},
   "outputs": [],
   "source": [
    "import sys\n",
    "input = lambda: sys.stdin.readline().rstrip()\n",
    "\n",
    "def main():\n",
    "    s = input()\n",
    "    weather = ['Sunny', 'Cloudy', 'Rainy', 'Sunny']\n",
    "    print(weather[weather.index(s)+1])\n",
    "\n",
    "if __name__ == '__main__':\n",
    "    main()"
   ]
  },
  {
   "cell_type": "markdown",
   "metadata": {},
   "source": [
    "## **B (AC)**"
   ]
  },
  {
   "cell_type": "code",
   "execution_count": null,
   "metadata": {},
   "outputs": [],
   "source": [
    "import sys\n",
    "input = lambda: sys.stdin.readline().rstrip()\n",
    "\n",
    "def main():\n",
    "    s = list(input())\n",
    "    for i in range(len(s)):\n",
    "        if s[i] == 'U' or s[i] == 'D':\n",
    "            pass\n",
    "        elif i % 2 == 0 and s[i] == 'R':\n",
    "            pass\n",
    "        elif i % 2 == 1 and s[i] == 'L':\n",
    "            pass\n",
    "        else:\n",
    "            print('No')\n",
    "            return\n",
    "    print('Yes')\n",
    "\n",
    "if __name__ == '__main__':\n",
    "    main()"
   ]
  },
  {
   "cell_type": "markdown",
   "metadata": {},
   "source": [
    "## **C (AC)**"
   ]
  },
  {
   "cell_type": "code",
   "execution_count": null,
   "metadata": {},
   "outputs": [],
   "source": [
    "import sys\n",
    "import collections\n",
    "input = lambda: sys.stdin.readline().rstrip()\n",
    "\n",
    "def main():\n",
    "    n, k, q = map(int, input().split())\n",
    "    a = []\n",
    "    for _ in range(q):\n",
    "        a.append(int(input()))\n",
    "    a = collections.Counter(a)\n",
    "    for i in range(1, n+1):\n",
    "        if k - (q - a[i]) > 0:\n",
    "            print('Yes')\n",
    "        else:\n",
    "            print('No')\n",
    "\n",
    "if __name__ == '__main__':\n",
    "    main()"
   ]
  }
 ],
 "metadata": {
  "language_info": {
   "codemirror_mode": {
    "name": "ipython",
    "version": 3
   },
   "file_extension": ".py",
   "mimetype": "text/x-python",
   "name": "python",
   "nbconvert_exporter": "python",
   "pygments_lexer": "ipython3",
   "version": 3
  },
  "orig_nbformat": 2
 },
 "nbformat": 4,
 "nbformat_minor": 2
}