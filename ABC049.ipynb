{
 "cells": [
  {
   "cell_type": "markdown",
   "metadata": {},
   "source": [
    "# [ABC049](https://atcoder.jp/contests/abc049)\n",
    "---"
   ]
  },
  {
   "cell_type": "markdown",
   "metadata": {},
   "source": [
    "## **A (AC)**"
   ]
  },
  {
   "cell_type": "code",
   "execution_count": null,
   "metadata": {},
   "outputs": [],
   "source": [
    "import sys\n",
    "input = lambda: sys.stdin.readline().rstrip()\n",
    "\n",
    "def main():\n",
    "    c = input()\n",
    "    str = ['a', 'i', 'u', 'e', 'o']\n",
    "    if c in str:\n",
    "        print('vowel')\n",
    "    else:\n",
    "        print('consonant')\n",
    "\n",
    "if __name__ == '__main__':\n",
    "    main()"
   ]
  },
  {
   "cell_type": "markdown",
   "metadata": {},
   "source": [
    "## **B (AC)**"
   ]
  },
  {
   "cell_type": "code",
   "execution_count": null,
   "metadata": {},
   "outputs": [],
   "source": [
    "import sys\n",
    "input = lambda: sys.stdin.readline().rstrip()\n",
    "\n",
    "def main():\n",
    "    h, w = map(int, input().split())\n",
    "    dots = [input() for _ in range(h)]\n",
    "    for i in dots:\n",
    "        print(i, i, sep='\\n')\n",
    "\n",
    "if __name__ == '__main__':\n",
    "    main()"
   ]
  },
  {
   "cell_type": "markdown",
   "metadata": {},
   "source": [
    "## **C (AC)**"
   ]
  },
  {
   "cell_type": "code",
   "execution_count": null,
   "metadata": {},
   "outputs": [],
   "source": [
    "import sys\n",
    "input = lambda: sys.stdin.readline().rstrip()\n",
    "\n",
    "def main():\n",
    "    s = input()\n",
    "    while True:\n",
    "        if len(s) >= 5:\n",
    "            if s[-5:] == 'dream' or s[-5:] == 'erase':\n",
    "                s = s[:-5]\n",
    "            elif s[-6:] == 'eraser':\n",
    "                s = s[:-6]\n",
    "            elif s[-7:] == 'dreamer':\n",
    "                s = s[:-7]\n",
    "            else:\n",
    "                print('NO')\n",
    "                return\n",
    "            if s == '':\n",
    "                print('YES')\n",
    "                return\n",
    "        else:\n",
    "            print('NO')\n",
    "            return\n",
    "\n",
    "if __name__ == '__main__':\n",
    "    main()"
   ]
  }
 ],
 "metadata": {
  "language_info": {
   "codemirror_mode": {
    "name": "ipython",
    "version": 3
   },
   "file_extension": ".py",
   "mimetype": "text/x-python",
   "name": "python",
   "nbconvert_exporter": "python",
   "pygments_lexer": "ipython3",
   "version": 3
  },
  "orig_nbformat": 2
 },
 "nbformat": 4,
 "nbformat_minor": 2
}