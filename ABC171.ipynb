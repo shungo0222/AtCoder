{
 "cells": [
  {
   "cell_type": "markdown",
   "metadata": {},
   "source": [
    "# [ABC171](https://atcoder.jp/contests/abc171)\n",
    "---"
   ]
  },
  {
   "cell_type": "markdown",
   "metadata": {},
   "source": [
    "## **A (AC)**"
   ]
  },
  {
   "cell_type": "code",
   "execution_count": null,
   "metadata": {},
   "outputs": [],
   "source": [
    "import sys\n",
    "input = lambda: sys.stdin.readline().rstrip()\n",
    "\n",
    "def main():\n",
    "    if input().isupper():\n",
    "        print('A')\n",
    "    else:\n",
    "        print('a')\n",
    "\n",
    "if __name__ == '__main__':\n",
    "    main()"
   ]
  },
  {
   "cell_type": "markdown",
   "metadata": {},
   "source": [
    "## **B (AC)**"
   ]
  },
  {
   "cell_type": "code",
   "execution_count": null,
   "metadata": {},
   "outputs": [],
   "source": [
    "import sys\n",
    "input = lambda: sys.stdin.readline().rstrip()\n",
    "\n",
    "def main():\n",
    "    n, k = map(int, input().split())\n",
    "    p = sorted(list(map(int, input().split())))\n",
    "    print(sum(p[:k]))\n",
    "\n",
    "\n",
    "if __name__ == '__main__':\n",
    "    main()"
   ]
  },
  {
   "cell_type": "markdown",
   "metadata": {},
   "source": [
    "## **C (RE)**"
   ]
  },
  {
   "cell_type": "code",
   "execution_count": null,
   "metadata": {},
   "outputs": [],
   "source": [
    "import sys\n",
    "import itertools\n",
    "input = lambda: sys.stdin.readline().rstrip()\n",
    "\n",
    "def main():\n",
    "    n = int(input())\n",
    "    l = list(itertools.accumulate(list(26**i for i in range(1,12))))\n",
    "    c = list('abcdefghijklmnopqrstuvwxyz')\n",
    "    for i in range(11):\n",
    "        if n <= l[i]:\n",
    "            ans = ['']*(i+1)\n",
    "            break\n",
    "    if i == 0:\n",
    "        print(c[n-1])\n",
    "    else:\n",
    "        n -= l[i-1]\n",
    "        for j in range(i+1):\n",
    "            tmp = n // (26**(i-j))\n",
    "            if j == i:\n",
    "                tmp -= 1\n",
    "            ans[j] = c[tmp]\n",
    "            n -= ((26**(i-j)) * tmp)\n",
    "        print(''.join(ans))\n",
    "\n",
    "if __name__ == '__main__':\n",
    "    main()"
   ]
  },
  {
   "cell_type": "markdown",
   "metadata": {},
   "source": [
    "## **C (review)**"
   ]
  },
  {
   "cell_type": "markdown",
   "metadata": {},
   "source": [
    "解説参照  \n",
    "26の累乗と比べながら桁数を求め、26で割った余りでアルファベットを決める"
   ]
  },
  {
   "cell_type": "code",
   "execution_count": null,
   "metadata": {},
   "outputs": [],
   "source": [
    "import sys\n",
    "input = lambda: sys.stdin.readline().rstrip()\n",
    "\n",
    "def main():\n",
    "    n = int(input())\n",
    "    ans = ''\n",
    "    for i in range(1, 20):\n",
    "        if n <= 26**i:\n",
    "            n -= 1\n",
    "            for j in range(i):\n",
    "                ans += chr((n % 26) + ord('a'))\n",
    "                n //= 26\n",
    "            print(ans[::-1])\n",
    "            return\n",
    "        else:\n",
    "            n -= 26**i\n",
    "\n",
    "if __name__ == '__main__':\n",
    "    main()"
   ]
  }
 ],
 "metadata": {
  "language_info": {
   "codemirror_mode": {
    "name": "ipython",
    "version": 3
   },
   "file_extension": ".py",
   "mimetype": "text/x-python",
   "name": "python",
   "nbconvert_exporter": "python",
   "pygments_lexer": "ipython3",
   "version": 3
  },
  "orig_nbformat": 2
 },
 "nbformat": 4,
 "nbformat_minor": 2
}