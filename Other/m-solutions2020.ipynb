{
 "metadata": {
  "language_info": {
   "codemirror_mode": {
    "name": "ipython",
    "version": 3
   },
   "file_extension": ".py",
   "mimetype": "text/x-python",
   "name": "python",
   "nbconvert_exporter": "python",
   "pygments_lexer": "ipython3",
   "version": 3
  },
  "orig_nbformat": 2
 },
 "nbformat": 4,
 "nbformat_minor": 2,
 "cells": [
  {
   "cell_type": "markdown",
   "metadata": {},
   "source": [
    "# [M-SOLUTIONS プロコンオープン 2020](https://atcoder.jp/contests/m-solutions2020)\n",
    "---"
   ]
  },
  {
   "cell_type": "markdown",
   "metadata": {},
   "source": [
    "## **A (AC)**"
   ]
  },
  {
   "cell_type": "code",
   "execution_count": null,
   "metadata": {},
   "outputs": [],
   "source": [
    "import sys\n",
    "input = lambda: sys.stdin.readline().rstrip()\n",
    "\n",
    "def main():\n",
    "    x = int(input())\n",
    "    if 400 <= x and x <=599:\n",
    "        print(8)\n",
    "    elif 600 <= x and x <= 799:\n",
    "        print(7)\n",
    "    elif 800 <= x and x <= 999:\n",
    "        print(6)\n",
    "    elif 1000 <= x and x <= 1199:\n",
    "        print(5)\n",
    "    elif 1200 <= x and x <= 1399:\n",
    "        print(4)\n",
    "    elif 1400 <= x and x <= 1599:\n",
    "        print(3)\n",
    "    elif 1600 <= x and x <= 1799:\n",
    "        print(2)\n",
    "    elif 1800 <= x and x <= 1999:\n",
    "        print(1)\n",
    "            \n",
    "if __name__ == '__main__':\n",
    "    main()"
   ]
  },
  {
   "cell_type": "markdown",
   "metadata": {},
   "source": [
    "* Best Practice"
   ]
  },
  {
   "cell_type": "code",
   "execution_count": null,
   "metadata": {},
   "outputs": [],
   "source": [
    "import sys\n",
    "input = lambda: sys.stdin.readline().rstrip()\n",
    "\n",
    "def main():\n",
    "    print(10 - int(input()) // 200)\n",
    "                    \n",
    "if __name__ == '__main__':\n",
    "    main()"
   ]
  },
  {
   "cell_type": "markdown",
   "metadata": {},
   "source": [
    "## **B (AC)**"
   ]
  },
  {
   "cell_type": "markdown",
   "metadata": {},
   "source": [
    "* greedy"
   ]
  },
  {
   "cell_type": "code",
   "execution_count": null,
   "metadata": {},
   "outputs": [],
   "source": [
    "import sys\n",
    "input = lambda: sys.stdin.readline().rstrip()\n",
    "\n",
    "def main():\n",
    "    a, b, c = map(int, input().split())\n",
    "    k = int(input())\n",
    "    for _ in range(k):\n",
    "        if a >= b:\n",
    "            b *= 2\n",
    "        elif b >= c:\n",
    "            c *= 2\n",
    "    if a < b and b < c:\n",
    "        print('Yes')\n",
    "    else:\n",
    "        print('No')\n",
    "            \n",
    "if __name__ == '__main__':\n",
    "    main()"
   ]
  },
  {
   "cell_type": "markdown",
   "metadata": {},
   "source": [
    "## **C (WA)**"
   ]
  },
  {
   "cell_type": "code",
   "execution_count": null,
   "metadata": {},
   "outputs": [],
   "source": [
    "import sys\n",
    "import numpy as np\n",
    "input = lambda: sys.stdin.readline().rstrip()\n",
    "\n",
    "def main():\n",
    "    n, k = map(int, input().split())\n",
    "    a = np.cumprod(list(map(int, input().split())))\n",
    "    for i in range(k, n):\n",
    "        if i != k and a[i-1]/a[i-1-k] < a[i]/a[i-k]:\n",
    "            print('Yes')\n",
    "        elif i == k and a[i-1] < a[i]/a[i-k]:\n",
    "            print('Yes')\n",
    "        else:\n",
    "            print('No')\n",
    "    \n",
    "            \n",
    "if __name__ == '__main__':\n",
    "    main()"
   ]
  },
  {
   "cell_type": "markdown",
   "metadata": {},
   "source": [
    "## **C (review)**"
   ]
  },
  {
   "cell_type": "markdown",
   "metadata": {},
   "source": [
    "* 解説AC"
   ]
  },
  {
   "cell_type": "code",
   "execution_count": null,
   "metadata": {},
   "outputs": [],
   "source": [
    "import sys\n",
    "input = lambda: sys.stdin.readline().rstrip()\n",
    "\n",
    "def main():\n",
    "    n, k = map(int, input().split())\n",
    "    a = list(map(int, input().split()))\n",
    "    for i in range(k, n):\n",
    "        if a[i] > a[i-k]:\n",
    "            print('Yes')\n",
    "        else:\n",
    "            print('No')\n",
    "                    \n",
    "if __name__ == '__main__':\n",
    "    main()"
   ]
  }
 ]
}