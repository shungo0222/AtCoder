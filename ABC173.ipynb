{
 "cells": [
  {
   "cell_type": "markdown",
   "metadata": {},
   "source": [
    "# [ABC173](https://atcoder.jp/contests/abc173)\n",
    "---"
   ]
  },
  {
   "cell_type": "markdown",
   "metadata": {},
   "source": [
    "## **A (AC)**"
   ]
  },
  {
   "cell_type": "code",
   "execution_count": null,
   "metadata": {},
   "outputs": [],
   "source": [
    "import sys\n",
    "import math\n",
    "input = lambda: sys.stdin.readline().rstrip()\n",
    "\n",
    "def main():\n",
    "    n = int(input())\n",
    "    print(math.ceil(n/1000)*1000-n)\n",
    "    \n",
    "if __name__ == '__main__':\n",
    "    main()"
   ]
  },
  {
   "cell_type": "markdown",
   "metadata": {},
   "source": [
    "## **B (AC)**"
   ]
  },
  {
   "cell_type": "code",
   "execution_count": null,
   "metadata": {},
   "outputs": [],
   "source": [
    "import sys\n",
    "import collections\n",
    "input = lambda: sys.stdin.readline().rstrip()\n",
    "\n",
    "def main():\n",
    "    n = int(input())\n",
    "    s = []\n",
    "    for _ in range(n):\n",
    "        s.append(input())\n",
    "    s = collections.Counter(s)\n",
    "    print('AC x {}'.format(s['AC']))\n",
    "    print('WA x {}'.format(s['WA']))\n",
    "    print('TLE x {}'.format(s['TLE']))\n",
    "    print('RE x {}'.format(s['RE']))\n",
    "    \n",
    "if __name__ == '__main__':\n",
    "    main()"
   ]
  },
  {
   "cell_type": "markdown",
   "metadata": {},
   "source": [
    "## **C (WA)**"
   ]
  },
  {
   "cell_type": "code",
   "execution_count": null,
   "metadata": {},
   "outputs": [],
   "source": [
    "全ての組み合わせを全探索したが、何も選ばないという1通りがあることを忘れていてWA"
   ]
  },
  {
   "cell_type": "code",
   "execution_count": null,
   "metadata": {},
   "outputs": [],
   "source": [
    "import sys\n",
    "import numpy as np\n",
    "import itertools\n",
    "input = lambda: sys.stdin.readline().rstrip()\n",
    "\n",
    "def main():\n",
    "    h, w, k = map(int, input().split())\n",
    "    ans = 0\n",
    "    grid = []\n",
    "    index = [i for i in range(h + w)]\n",
    "    for _ in range(h):\n",
    "        grid.append(list(input()))\n",
    "    grid = np.array(grid)\n",
    "    for i in range(1, h+w+1):\n",
    "        for combs in itertools.combinations(index, i):\n",
    "            tmp = grid.copy()\n",
    "            row, col = [], []\n",
    "            for comb in combs:\n",
    "                if comb >= w:\n",
    "                    row.append(comb - w)\n",
    "                else:\n",
    "                    col.append(comb)\n",
    "            tmp = np.delete(tmp, row, 0)\n",
    "            tmp = np.delete(tmp, col, 1)\n",
    "            if np.count_nonzero(tmp == '#') == k:\n",
    "                ans += 1\n",
    "    print(ans)                \n",
    "    \n",
    "if __name__ == '__main__':\n",
    "    main()"
   ]
  },
  {
   "cell_type": "markdown",
   "metadata": {},
   "source": [
    "## **C (review)**"
   ]
  },
  {
   "cell_type": "markdown",
   "metadata": {},
   "source": [
    "* <sub>(H+W)</sub>C<sub>0</sub>から<sub>(H+W)</sub>C<sub>(H+W)</sub>までの全ての組み合わせを全探索"
   ]
  },
  {
   "cell_type": "code",
   "execution_count": null,
   "metadata": {},
   "outputs": [],
   "source": [
    "import sys\n",
    "import numpy as np\n",
    "import itertools\n",
    "input = lambda: sys.stdin.readline().rstrip()\n",
    "\n",
    "def main():\n",
    "    h, w, k = map(int, input().split())\n",
    "    ans = 0\n",
    "    grid = []\n",
    "    index = [i for i in range(h + w)]\n",
    "    for _ in range(h):\n",
    "        grid.append(list(input()))\n",
    "    grid = np.array(grid)\n",
    "    if np.count_nonzero(grid == '#') == k:\n",
    "        ans += 1\n",
    "    for i in range(1, h+w+1):\n",
    "        for combs in itertools.combinations(index, i):\n",
    "            tmp = grid.copy()\n",
    "            row, col = [], []\n",
    "            for comb in combs:\n",
    "                if comb >= w:\n",
    "                    row.append(comb - w)\n",
    "                else:\n",
    "                    col.append(comb)\n",
    "            tmp = np.delete(tmp, row, 0)\n",
    "            tmp = np.delete(tmp, col, 1)\n",
    "            if np.count_nonzero(tmp == '#') == k:\n",
    "                ans += 1\n",
    "    print(ans)                \n",
    "    \n",
    "if __name__ == '__main__':\n",
    "    main()"
   ]
  },
  {
   "cell_type": "markdown",
   "metadata": {},
   "source": [
    "* 行と列のそれぞれについて赤に塗るか塗らないかの2択なのでbit全探索"
   ]
  },
  {
   "cell_type": "code",
   "execution_count": null,
   "metadata": {},
   "outputs": [],
   "source": [
    "import sys\n",
    "import numpy as np\n",
    "input = lambda: sys.stdin.readline().rstrip()\n",
    "\n",
    "def main():\n",
    "    h, w, k = map(int, input().split())\n",
    "    c = []\n",
    "    ans = 0\n",
    "    for _ in range(h):\n",
    "        c.append(list(input()))\n",
    "    grid = np.array(c)\n",
    "    for i in range(2**(w+h)):\n",
    "        tmp = grid.copy()\n",
    "        row, col = [], []\n",
    "        for j in range(w+h):\n",
    "            if (i >> j) & 1:\n",
    "                if j < w:\n",
    "                    col.append(j)\n",
    "                else:\n",
    "                    row.append(j-w)\n",
    "        tmp = np.delete(tmp, row, 0)\n",
    "        tmp = np.delete(tmp, col, 1)\n",
    "        if np.sum(tmp == '#') == k:\n",
    "            ans += 1\n",
    "    print(ans)\n",
    "    \n",
    "if __name__ == '__main__':\n",
    "    main()"
   ]
  }
 ],
 "metadata": {
  "language_info": {
   "codemirror_mode": {
    "name": "ipython",
    "version": 3
   },
   "file_extension": ".py",
   "mimetype": "text/x-python",
   "name": "python",
   "nbconvert_exporter": "python",
   "pygments_lexer": "ipython3",
   "version": 3
  },
  "orig_nbformat": 2
 },
 "nbformat": 4,
 "nbformat_minor": 2
}