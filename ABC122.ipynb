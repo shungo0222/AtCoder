{
 "cells": [
  {
   "cell_type": "markdown",
   "metadata": {},
   "source": [
    "# [ABC122](https://atcoder.jp/contests/abc122)\n",
    "--- "
   ]
  },
  {
   "cell_type": "markdown",
   "metadata": {},
   "source": [
    "## **A (AC)**"
   ]
  },
  {
   "cell_type": "code",
   "execution_count": null,
   "metadata": {},
   "outputs": [],
   "source": [
    "import sys\n",
    "input = lambda: sys.stdin.readline().rstrip()\n",
    "\n",
    "def main():\n",
    "    b = input()\n",
    "    if b == \"A\":\n",
    "        print(\"T\")\n",
    "    elif b == \"T\":\n",
    "        print(\"A\")\n",
    "    elif b == \"C\":\n",
    "        print(\"G\")\n",
    "    elif b == \"G\":\n",
    "        print(\"C\")\n",
    "            \n",
    "if __name__ == '__main__':\n",
    "    main()"
   ]
  },
  {
   "cell_type": "markdown",
   "metadata": {},
   "source": [
    "## **B (AC)**"
   ]
  },
  {
   "cell_type": "code",
   "execution_count": null,
   "metadata": {},
   "outputs": [],
   "source": [
    "import sys\n",
    "input = lambda: sys.stdin.readline().rstrip()\n",
    "\n",
    "def main():\n",
    "    s = list(input())\n",
    "    ans = 0\n",
    "    for i in range(len(s)):\n",
    "        count = 0\n",
    "        for j in range(i, len(s)):\n",
    "            if s[j] in ['A', 'C', 'G', 'T']:\n",
    "                count += 1\n",
    "            else:\n",
    "                break\n",
    "        ans = max(ans, count)\n",
    "    print(ans)\n",
    "            \n",
    "if __name__ == '__main__':\n",
    "    main()"
   ]
  },
  {
   "cell_type": "markdown",
   "metadata": {},
   "source": [
    "## **C (AC)**"
   ]
  },
  {
   "cell_type": "code",
   "execution_count": null,
   "metadata": {},
   "outputs": [],
   "source": [
    "import sys\n",
    "input = lambda: sys.stdin.readline().rstrip()\n",
    "\n",
    "def main():\n",
    "    n, q = map(int, input().split())\n",
    "    s = list(input())\n",
    "    lr = [list(map(int, input().split())) for _ in range(q)]\n",
    "    ac = [0] * len(s)\n",
    "    for i in range(1, len(s)):\n",
    "        if s[i-1]=='A' and s[i]=='C':\n",
    "            ac[i] = ac[i-1] + 1\n",
    "        else:\n",
    "            ac[i] = ac[i-1]\n",
    "    for i in lr:\n",
    "        print(ac[i[1]-1]-ac[i[0]-1])\n",
    "            \n",
    "if __name__ == '__main__':\n",
    "    main()"
   ]
  }
 ],
 "metadata": {
  "language_info": {
   "codemirror_mode": {
    "name": "ipython",
    "version": 3
   },
   "file_extension": ".py",
   "mimetype": "text/x-python",
   "name": "python",
   "nbconvert_exporter": "python",
   "pygments_lexer": "ipython3",
   "version": 3
  },
  "orig_nbformat": 2
 },
 "nbformat": 4,
 "nbformat_minor": 2
}