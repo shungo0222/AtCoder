{
 "cells": [
  {
   "cell_type": "markdown",
   "metadata": {},
   "source": [
    "# [ABC159](https://atcoder.jp/contests/abc159)\n",
    "---"
   ]
  },
  {
   "cell_type": "markdown",
   "metadata": {},
   "source": [
    "## **A (AC)**"
   ]
  },
  {
   "cell_type": "markdown",
   "metadata": {},
   "source": [
    "* 全部の組み合わせからMが一つだけ選ばれる場合を引く"
   ]
  },
  {
   "cell_type": "code",
   "execution_count": 4,
   "metadata": {},
   "outputs": [
    {
     "output_type": "stream",
     "name": "stdout",
     "text": "1\n"
    }
   ],
   "source": [
    "import math\n",
    "n, m = map(int, input().split())\n",
    " \n",
    "def combinations_count(a, b):\n",
    "    return math.factorial(a+b) // (2 * math.factorial(a+b-2))\n",
    " \n",
    "print(combinations_count(n, m)-(n*m))"
   ]
  },
  {
   "cell_type": "markdown",
   "metadata": {},
   "source": [
    "* ｎとｍのそれぞれから２個選ぶ組み合わせ"
   ]
  },
  {
   "cell_type": "code",
   "execution_count": 2,
   "metadata": {},
   "outputs": [
    {
     "output_type": "stream",
     "name": "stdout",
     "text": "1\n"
    }
   ],
   "source": [
    "n, m = map(int, input().split())\n",
    "print((n*(n-1)//2)+(m*(m-1)//2))"
   ]
  },
  {
   "cell_type": "markdown",
   "metadata": {},
   "source": [
    "## **B (AC)**"
   ]
  },
  {
   "cell_type": "code",
   "execution_count": 1,
   "metadata": {},
   "outputs": [
    {
     "output_type": "stream",
     "name": "stdout",
     "text": "Yes\n"
    }
   ],
   "source": [
    "import sys\n",
    "s = list(input())\n",
    "front, back = list(), list()\n",
    " \n",
    "repeat = (len(s)-1) // 2\n",
    "for i in range(repeat):\n",
    "    if s[i] == s[len(s)-1-i]:\n",
    "        front.append(s[i])\n",
    "        back.append(s[len(s)-1-i])\n",
    "    else:\n",
    "        print('No')\n",
    "        sys.exit()\n",
    " \n",
    "if len(front) % 2 == 0:\n",
    "    repeat = len(front) // 2\n",
    "else:\n",
    "    repeat = (len(front)-1) // 2        \n",
    " \n",
    "for i in range(repeat):\n",
    "    if front[i] == front[len(front)-1-i] and back[i] == back[len(back)-1-i]:\n",
    "        pass\n",
    "    else:\n",
    "        print('No')\n",
    "        sys.exit()\n",
    "        \n",
    "print('Yes')"
   ]
  }
 ],
 "metadata": {
  "language_info": {
   "codemirror_mode": {
    "name": "ipython",
    "version": 3
   },
   "file_extension": ".py",
   "mimetype": "text/x-python",
   "name": "python",
   "nbconvert_exporter": "python",
   "pygments_lexer": "ipython3",
   "version": "3.7.4-final"
  },
  "orig_nbformat": 2,
  "kernelspec": {
   "name": "python3",
   "display_name": "Python 3"
  }
 },
 "nbformat": 4,
 "nbformat_minor": 2
}