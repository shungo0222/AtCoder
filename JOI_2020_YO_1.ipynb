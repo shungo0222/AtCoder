{
 "cells": [
  {
   "cell_type": "markdown",
   "metadata": {},
   "source": [
    "# [JOI 2019/2020 一次予選（第1回）オンラインジャッジ](https://atcoder.jp/contests/joi2020yo1a)\n",
    "---"
   ]
  },
  {
   "cell_type": "markdown",
   "metadata": {},
   "source": [
    "## **A (AC)**"
   ]
  },
  {
   "cell_type": "code",
   "execution_count": null,
   "metadata": {},
   "outputs": [],
   "source": [
    "import sys\n",
    "input = lambda: sys.stdin.readline().rstrip()\n",
    "\n",
    "def main():\n",
    "    abc = list(input().split())\n",
    "    one = 0\n",
    "    two = 0\n",
    "    for i in abc:\n",
    "        if i == '1':\n",
    "            one += 1\n",
    "        else:\n",
    "            two += 1\n",
    "    if one < two:\n",
    "        print(2)\n",
    "    else:\n",
    "        print(1)\n",
    "\n",
    "if __name__ == '__main__':\n",
    "    main()"
   ]
  },
  {
   "cell_type": "markdown",
   "metadata": {},
   "source": [
    "## **B (AC)**"
   ]
  },
  {
   "cell_type": "code",
   "execution_count": null,
   "metadata": {},
   "outputs": [],
   "source": [
    "import sys\n",
    "input = lambda: sys.stdin.readline().rstrip()\n",
    "\n",
    "def main():\n",
    "    n = int(input())\n",
    "    s = list(input())\n",
    "    c = list('aiueo')\n",
    "    ans = 0\n",
    "    for i in c:\n",
    "        ans += s.count(i)\n",
    "    print(ans)\n",
    "\n",
    "if __name__ == '__main__':\n",
    "    main()"
   ]
  },
  {
   "cell_type": "markdown",
   "metadata": {},
   "source": [
    "## **C (AC)**"
   ]
  },
  {
   "cell_type": "code",
   "execution_count": null,
   "metadata": {},
   "outputs": [],
   "source": [
    "import sys\n",
    "input = lambda: sys.stdin.readline().rstrip()\n",
    "\n",
    "def main():\n",
    "    n, m = map(int, input().split())\n",
    "    a = list(map(int, input().split()))\n",
    "    b = list(map(int, input().split()))\n",
    "    c = []\n",
    "    while True:\n",
    "        if a == [] and b == []:\n",
    "            print(*c, sep='\\n')\n",
    "            return\n",
    "        elif a == []:\n",
    "            c.append(b[0])\n",
    "            b.pop(0)\n",
    "        elif b == []:\n",
    "            c.append(a[0])\n",
    "            a.pop(0)\n",
    "        elif a[0] < b[0]:\n",
    "            c.append(a[0])\n",
    "            a.pop(0)\n",
    "        elif b[0] < a[0]:\n",
    "            c.append(b[0])\n",
    "            b.pop(0)\n",
    "        else:\n",
    "            c.append(a[0])\n",
    "            a.pop(0)            \n",
    "\n",
    "if __name__ == '__main__':\n",
    "    main()"
   ]
  }
 ],
 "metadata": {
  "language_info": {
   "codemirror_mode": {
    "name": "ipython",
    "version": 3
   },
   "file_extension": ".py",
   "mimetype": "text/x-python",
   "name": "python",
   "nbconvert_exporter": "python",
   "pygments_lexer": "ipython3",
   "version": 3
  },
  "orig_nbformat": 2
 },
 "nbformat": 4,
 "nbformat_minor": 2
}