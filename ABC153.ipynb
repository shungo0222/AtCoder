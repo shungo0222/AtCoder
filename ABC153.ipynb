{
 "cells": [
  {
   "cell_type": "markdown",
   "metadata": {},
   "source": [
    "# [ABC153](https://atcoder.jp/contests/abc153)\n",
    "---"
   ]
  },
  {
   "cell_type": "markdown",
   "metadata": {},
   "source": [
    "## **A (AC)**"
   ]
  },
  {
   "cell_type": "code",
   "execution_count": 1,
   "metadata": {},
   "outputs": [
    {
     "output_type": "stream",
     "name": "stdout",
     "text": "3\n"
    }
   ],
   "source": [
    "import sys\n",
    "# input = lambda: sys.stdin.readline().rstrip()\n",
    " \n",
    "def main():\n",
    "    h, a = map(int, input().split())\n",
    "    cnt = 0\n",
    "    while h > 0:\n",
    "        h -= a\n",
    "        cnt += 1\n",
    "    print(cnt)\n",
    " \n",
    "if __name__ == '__main__':\n",
    "    main()"
   ]
  },
  {
   "cell_type": "markdown",
   "metadata": {},
   "source": [
    "## **B (AC)**"
   ]
  },
  {
   "cell_type": "code",
   "execution_count": 2,
   "metadata": {},
   "outputs": [
    {
     "output_type": "stream",
     "name": "stdout",
     "text": "Yes\n"
    }
   ],
   "source": [
    "import sys\n",
    "# input = lambda: sys.stdin.readline().rstrip()\n",
    " \n",
    "def main():\n",
    "    h, n = map(int, input().split())\n",
    "    a = [int(i) for i in input().split()]\n",
    "    if sum(a) >= h:\n",
    "        print('Yes')\n",
    "    else:\n",
    "        print('No')\n",
    " \n",
    "if __name__ == '__main__':\n",
    "    main()"
   ]
  },
  {
   "cell_type": "markdown",
   "metadata": {},
   "source": [
    "## **C (AC)**"
   ]
  },
  {
   "cell_type": "code",
   "execution_count": 5,
   "metadata": {},
   "outputs": [
    {
     "output_type": "stream",
     "name": "stdout",
     "text": "5\n"
    }
   ],
   "source": [
    "import sys\n",
    "# input = lambda: sys.stdin.readline().rstrip()\n",
    " \n",
    "def main():\n",
    "    n, k = map(int, input().split())\n",
    "    h = sorted([int(i) for i in input().split()])\n",
    "    for _ in range(k):\n",
    "        h.pop()\n",
    "        if h == []:\n",
    "            print(0)\n",
    "            return\n",
    "    print(sum(h))\n",
    " \n",
    "if __name__ == '__main__':\n",
    "    main()"
   ]
  },
  {
   "cell_type": "markdown",
   "metadata": {},
   "source": [
    "## **D (AC)**"
   ]
  },
  {
   "cell_type": "markdown",
   "metadata": {},
   "source": [
    "与えられた数字の変化の様子を木構造のようにして表す  \n",
    "上から順番に段数を\" i = 0, 1, 2, 3 ... \"というふうに数えていくと、i段目の枝分かれの数は\" 2**i \"個存在する"
   ]
  },
  {
   "cell_type": "code",
   "execution_count": 7,
   "metadata": {},
   "outputs": [
    {
     "output_type": "stream",
     "name": "stdout",
     "text": "1099511627775\n"
    }
   ],
   "source": [
    "import sys\n",
    "# input = lambda: sys.stdin.readline().rstrip()\n",
    " \n",
    "def main():\n",
    "    h = int(input())\n",
    "    attack = 0\n",
    "    cnt = 0\n",
    "    while h >= 2:\n",
    "        h //= 2\n",
    "        cnt += 1\n",
    "    for i in range(cnt+1):\n",
    "        attack += 2 ** i          \n",
    "    print(attack)\n",
    " \n",
    "if __name__ == '__main__':\n",
    "    main()"
   ]
  }
 ],
 "metadata": {
  "language_info": {
   "codemirror_mode": {
    "name": "ipython",
    "version": 3
   },
   "file_extension": ".py",
   "mimetype": "text/x-python",
   "name": "python",
   "nbconvert_exporter": "python",
   "pygments_lexer": "ipython3",
   "version": "3.7.4-final"
  },
  "orig_nbformat": 2,
  "kernelspec": {
   "name": "python3",
   "display_name": "Python 3"
  }
 },
 "nbformat": 4,
 "nbformat_minor": 2
}