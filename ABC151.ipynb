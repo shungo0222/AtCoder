{
 "cells": [
  {
   "cell_type": "markdown",
   "metadata": {},
   "source": [
    "# [ABC151](https://atcoder.jp/contests/abc151)\n",
    "---"
   ]
  },
  {
   "cell_type": "markdown",
   "metadata": {},
   "source": [
    "## **A (AC)**"
   ]
  },
  {
   "cell_type": "code",
   "execution_count": 1,
   "metadata": {},
   "outputs": [
    {
     "output_type": "stream",
     "name": "stdout",
     "text": "b\n"
    }
   ],
   "source": [
    "import sys\n",
    "# input = lambda: sys.stdin.readline().rstrip()\n",
    " \n",
    "def main():\n",
    "    c = input()\n",
    "    str = list('abcdefghijklmnopqrstuvwxyz')\n",
    "    print(str[str.index(c)+1])\n",
    " \n",
    "if __name__ == '__main__':\n",
    "    main()"
   ]
  },
  {
   "cell_type": "code",
   "execution_count": 2,
   "metadata": {},
   "outputs": [
    {
     "output_type": "stream",
     "name": "stdout",
     "text": "z\n"
    }
   ],
   "source": [
    "import sys\n",
    "# input = lambda: sys.stdin.readline().rstrip()\n",
    " \n",
    "def main():\n",
    "    c = ord(input())\n",
    "    print(chr(c+1))\n",
    " \n",
    "if __name__ == '__main__':\n",
    "    main()"
   ]
  },
  {
   "cell_type": "markdown",
   "metadata": {},
   "source": [
    "## **B (AC)**"
   ]
  },
  {
   "cell_type": "code",
   "execution_count": 4,
   "metadata": {},
   "outputs": [
    {
     "output_type": "stream",
     "name": "stdout",
     "text": "8\n"
    }
   ],
   "source": [
    "import sys\n",
    "# input = lambda: sys.stdin.readline().rstrip()\n",
    " \n",
    "def main():\n",
    "    n, k, m = map(int, input().split())\n",
    "    a = [int(i) for i in input().split()]\n",
    "    if 0 < n*m-sum(a) and n*m-sum(a) <= k:\n",
    "        print(n*m-sum(a))\n",
    "    elif n*m-sum(a) <= 0:\n",
    "        print(0)\n",
    "    else:\n",
    "        print(-1)\n",
    " \n",
    "if __name__ == '__main__':\n",
    "    main()"
   ]
  },
  {
   "cell_type": "markdown",
   "metadata": {},
   "source": [
    "## **C (AC)**"
   ]
  },
  {
   "cell_type": "code",
   "execution_count": null,
   "metadata": {},
   "outputs": [],
   "source": [
    "import sys\n",
    "# input = lambda: sys.stdin.readline().rstrip()\n",
    " \n",
    "def main():\n",
    "    n, m = map(int, input().split())\n",
    "    penalty = dict()\n",
    "    penalty_cnt = 0\n",
    "    ans = set()\n",
    "    for _ in range(m):\n",
    "        num, result = input().split()\n",
    "        if result == 'AC':\n",
    "            ans.add(num)\n",
    "            if num not in penalty:\n",
    "                penalty[num] = 0\n",
    "        elif num not in ans:\n",
    "            if num not in penalty:\n",
    "                penalty[num] = 1\n",
    "            else:\n",
    "                penalty[num] += 1\n",
    "    ans = list(ans)\n",
    "    for i in range(len(ans)):\n",
    "        penalty_cnt += penalty[ans[i]]\n",
    "    print(len(ans), penalty_cnt)\n",
    " \n",
    "if __name__ == '__main__':\n",
    "    main()"
   ]
  }
 ],
 "metadata": {
  "language_info": {
   "codemirror_mode": {
    "name": "ipython",
    "version": 3
   },
   "file_extension": ".py",
   "mimetype": "text/x-python",
   "name": "python",
   "nbconvert_exporter": "python",
   "pygments_lexer": "ipython3",
   "version": "3.7.4-final"
  },
  "orig_nbformat": 2,
  "kernelspec": {
   "name": "python3",
   "display_name": "Python 3"
  }
 },
 "nbformat": 4,
 "nbformat_minor": 2
}