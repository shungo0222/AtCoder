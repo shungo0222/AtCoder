{
 "cells": [
  {
   "cell_type": "markdown",
   "metadata": {},
   "source": [
    "# Note\n",
    "---"
   ]
  },
  {
   "cell_type": "markdown",
   "metadata": {},
   "source": [
    "## 再帰関数\n",
    "---\n",
    "\n",
    "基本のルール\n",
    " * 再帰終了条件を持たなければならない\n",
    " * 状態を変えながら再帰終了条件に進んでいかなければならない\n",
    " * 再帰的に関数自身を呼び出さなければならない\n",
    "\n",
    "```python\n",
    "# 1からnまでの和を求める再帰関数\n",
    "def sum(n):\n",
    "    if n == 0:\n",
    "        return n\n",
    "    return n + sum(n-1)\n",
    "```\n",
    "\n",
    "Pythonは再帰限界が1000回と決められているので、必要ならばこの限界を上げておく  \n",
    "(再帰はやや遅いので競プロでは使わないほうが良い)\n",
    "```python\n",
    "import sys\n",
    "sys.setrecursionlimit(10**8)\n",
    "```"
   ]
  },
  {
   "cell_type": "markdown",
   "metadata": {},
   "source": [
    "## n進数変換関数\n",
    "--- \n",
    "参照  \n",
    "[Python で10進数とn進数の変換](http://iatlex.com/python/base_change)"
   ]
  },
  {
   "cell_type": "code",
   "execution_count": 1,
   "metadata": {},
   "outputs": [],
   "source": [
    "# 10進数からn進数へ\n",
    "def Base_10_to_n(X, n):\n",
    "    if (int(X/n)):\n",
    "        return Base_10_to_n(int(X/n), n)+str(X%n)\n",
    "    return str(X%n)"
   ]
  },
  {
   "cell_type": "code",
   "execution_count": null,
   "metadata": {},
   "outputs": [],
   "source": [
    "# n進数から10進数へ\n",
    "def Base_n_to_10(X,n):\n",
    "    out = 0\n",
    "    for i in range(1,len(str(X))+1):\n",
    "        out += int(X[-i])*(n**(i-1))\n",
    "    return out  # int out"
   ]
  },
  {
   "cell_type": "markdown",
   "metadata": {},
   "source": [
    "## *(アスタリスク)1個の機能\n",
    "---\n",
    "参照  \n",
    "[【Python3入門】*(アスタリスク)1個の機能まとめ](https://pycarnival.com/one_asterisk/)  \n",
    "[【Python3】リストのunpacking、Python3からの拡張機能](http://pycarnival.com/unpacking_python3/)\n",
    "\n",
    "1. 数値の計算\n",
    "2. 文字列の繰り返し\n",
    "3. リストやタプルの拡張\n",
    "4. 関数引数のタプル化\n",
    "5. リストやタプルのアンパッキング  "
   ]
  },
  {
   "cell_type": "code",
   "execution_count": 1,
   "metadata": {},
   "outputs": [
    {
     "output_type": "stream",
     "name": "stdout",
     "text": "0\n1\n2\n3\n4\n"
    }
   ],
   "source": [
    "# アスタリスクのアンパック機能による書き方\n",
    "nums = range(5)\n",
    "print(*nums, sep='\\n')"
   ]
  },
  {
   "cell_type": "markdown",
   "metadata": {},
   "source": [
    "## 素因数分解\n",
    "---\n",
    "ある自然数を素数の掛け算であらわすこと"
   ]
  },
  {
   "cell_type": "markdown",
   "metadata": {},
   "source": [
    "* **試し割り法(trial division) O(sqrt(N))**\n",
    "\n",
    "与えられた2以上の自然数nに対して、nより小さい数で割り切れるかどうかを順番に確かめることで素因数判定を行う  \n",
    "素因数候補として確かめるべき値の範囲は、2以上sqrt(n)以下"
   ]
  },
  {
   "cell_type": "code",
   "execution_count": null,
   "metadata": {},
   "outputs": [],
   "source": [
    "# Return a list of the prime factors for a natural number bigger than 1\n",
    "def trial_division(n):\n",
    "    if n < 2:\n",
    "        return []\n",
    "\n",
    "    prime_factors = []\n",
    "\n",
    "    # 2以上sqrt(n)以下で調べる\n",
    "    for i in range(2, int(n**0.5)+1):\n",
    "        # nがi（の累乗）で割り切れるかを調べる\n",
    "        while n % i == 0:\n",
    "            # nがiで割り切れる場合、iを素因数としてリストに追加する\n",
    "            prime_factors.append(i)\n",
    "            # nをiで割った商で更新しておく\n",
    "            n //= i\n",
    "    # nの平方根より大きい素因数が存在する場合\n",
    "    if n > 1:\n",
    "        prime_factors.append(n)\n",
    "\n",
    "    return prime_factors"
   ]
  },
  {
   "cell_type": "markdown",
   "metadata": {},
   "source": [
    "上の素因数分解を利用して、nの約数を求める"
   ]
  },
  {
   "cell_type": "code",
   "execution_count": null,
   "metadata": {},
   "outputs": [],
   "source": [
    "import itertools\n",
    "\n",
    "# nの約数のSetを返す\n",
    "def get_divisors(n):\n",
    "    # nの素因数のリストを得る\n",
    "    prime_factors = trial_division(n)\n",
    "    divisors = set()\n",
    "\n",
    "    for i in range(1, len(prime_factors)+1):\n",
    "        # 素因数をi個選んだ時の組み合わせ\n",
    "        combinations = list(itertools.combinations(prime_factors, i))\n",
    "\n",
    "        # 素因数を掛け合わせて約数を得る\n",
    "        for comb in combinations:\n",
    "            divisor = 1\n",
    "            for num in comb:\n",
    "                divisor *= num\n",
    "            divisors.add(divisor)\n",
    "\n",
    "    # 1を約数として加える\n",
    "    divisors.add(1)\n",
    "    return divisors"
   ]
  },
  {
   "cell_type": "markdown",
   "metadata": {},
   "source": [
    "素数と指数をタプルのリストにする"
   ]
  },
  {
   "cell_type": "code",
   "execution_count": null,
   "metadata": {},
   "outputs": [],
   "source": [
    "# Return a list of the tuple of the prime factors for a natural number bigger than 1\n",
    "def trial_division(n):\n",
    "    if n < 2:\n",
    "        return []\n",
    "\n",
    "    prime_factors = []\n",
    "    e = 0  # exponent\n",
    "\n",
    "    # 2以上sqrt(n)以下で調べる\n",
    "    for i in range(2, int(n**0.5)+1):\n",
    "        # nがi（の累乗）で割り切れるかを調べる\n",
    "        while n % i == 0:\n",
    "            # nがiで割り切れた場合、指数の数を更新\n",
    "            e += 1\n",
    "            # nをiで割った商で更新しておく\n",
    "            n //= i\n",
    "        if e > 0:\n",
    "            prime_factors.append((i, e))\n",
    "        e = 0\n",
    "    # nの平方根より大きい素因数が存在する場合\n",
    "    if n > 1:\n",
    "        prime_factors.append((n, 1))\n",
    "\n",
    "    return prime_factors"
   ]
  },
  {
   "cell_type": "markdown",
   "metadata": {},
   "source": [
    "## bit全探索\n",
    "---\n",
    "「n 個の選択肢それぞれに Yes or No の二択があり、その部分集合（選択できるパターン）の全てを網羅的にチェックしたい」といった場合に使う  \n",
    "調べるパターンは2の2乗  \n",
    "この選択肢の1つ1つを2進数の bit に見立ててシフト演算でチェックを行うことから「bit 全探索」と呼ばれるが、やっていることは単なる全探索"
   ]
  },
  {
   "cell_type": "markdown",
   "metadata": {},
   "source": [
    "(例) AtCoder [ABC079 C](https://atcoder.jp/contests/abc079/tasks/abc079_c)"
   ]
  },
  {
   "cell_type": "code",
   "execution_count": null,
   "metadata": {},
   "outputs": [],
   "source": [
    "n = [i for i in input()]\n",
    "length = len(n) -1\n",
    "\n",
    "for i in range(2 ** length):\n",
    "    ops = ['-'] * length\n",
    "    for j in range(length):\n",
    "        if (i >> j) & 1:\n",
    "            ops[length - 1 - j] = '+'\n",
    "    \n",
    "    formula = str()\n",
    "    for num , op in zip(n, ops + ['']):\n",
    "        formula += (num + op)\n",
    "    \n",
    "    if eval(formula) == 7:\n",
    "        print(formula+'=7')\n",
    "        break"
   ]
  },
  {
   "cell_type": "markdown",
   "metadata": {},
   "source": [
    "## 浮動小数点数の精度\n",
    "---"
   ]
  },
  {
   "cell_type": "markdown",
   "metadata": {},
   "source": [
    "### --> **精度の桁数より求めたい数が大きくなると誤差が生じる**\n",
    "\n",
    "解決策２つ\n",
    "\n",
    " 1. ***浮動小数点数を整数に直し、整数のみの計算を行う***\n",
    " 2. ***decimal.Decimalを使う***\n",
    " \n",
    "参考web\n",
    " * [pythonの除算結果が浮動小数点数になったので、必要な精度が失われた話](https://linus-mk.hatenablog.com/entry/2019/05/26/234642)\n",
    " * [【Python3】Decimalモジュールを使った、精度の高い小数点以下の数値計算](http://automaprog.hatenadiary.jp/entry/2017/04/09/180520)"
   ]
  },
  {
   "cell_type": "markdown",
   "metadata": {},
   "source": [
    "(例) AtCoder [ABC169 C](https://atcoder.jp/contests/abc169/tasks/abc169_c)"
   ]
  }
 ],
 "metadata": {
  "language_info": {
   "codemirror_mode": {
    "name": "ipython",
    "version": 3
   },
   "file_extension": ".py",
   "mimetype": "text/x-python",
   "name": "python",
   "nbconvert_exporter": "python",
   "pygments_lexer": "ipython3",
   "version": "3.7.4-final"
  },
  "orig_nbformat": 2,
  "kernelspec": {
   "name": "python3",
   "display_name": "Python 3"
  }
 },
 "nbformat": 4,
 "nbformat_minor": 2
}