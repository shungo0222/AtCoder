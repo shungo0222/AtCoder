{
 "cells": [
  {
   "cell_type": "markdown",
   "metadata": {},
   "source": [
    "# Note\n",
    "---"
   ]
  },
  {
   "cell_type": "markdown",
   "metadata": {},
   "source": [
    "## 再帰関数\n",
    "---\n",
    "\n",
    "基本のルール\n",
    " * 再帰終了条件を持たなければならない\n",
    " * 状態を変えながら再帰終了条件に進んでいかなければならない\n",
    " * 再帰的に関数自身を呼び出さなければならない\n",
    "\n",
    "```python\n",
    "# 1からnまでの和を求める再帰関数\n",
    "def sum(n):\n",
    "    if n == 0:\n",
    "        return n\n",
    "    return n + sum(n-1)\n",
    "```\n",
    "\n",
    "Pythonは再帰限界が1000回と決められているので、必要ならばこの限界を上げておく  \n",
    "(再帰はやや遅いので競プロでは使わないほうが良い)\n",
    "```python\n",
    "import sys\n",
    "sys.setrecursionlimit(10**8)\n",
    "```"
   ]
  },
  {
   "cell_type": "markdown",
   "metadata": {},
   "source": [
    "## n進数変換関数\n",
    "--- \n",
    "参照  \n",
    "[Python で10進数とn進数の変換](http://iatlex.com/python/base_change)"
   ]
  },
  {
   "cell_type": "code",
   "execution_count": 1,
   "metadata": {},
   "outputs": [],
   "source": [
    "# 10進数からn進数へ\n",
    "def Base_10_to_n(X, n):\n",
    "    if (int(X/n)):\n",
    "        return Base_10_to_n(int(X/n), n)+str(X%n)\n",
    "    return str(X%n)"
   ]
  },
  {
   "cell_type": "code",
   "execution_count": null,
   "metadata": {},
   "outputs": [],
   "source": [
    "# n進数から10進数へ\n",
    "def Base_n_to_10(X,n):\n",
    "    out = 0\n",
    "    for i in range(1,len(str(X))+1):\n",
    "        out += int(X[-i])*(n**(i-1))\n",
    "    return out  # int out"
   ]
  },
  {
   "cell_type": "markdown",
   "metadata": {},
   "source": [
    "## *(アスタリスク)1個の機能\n",
    "---\n",
    "参照  \n",
    "[【Python3入門】*(アスタリスク)1個の機能まとめ](https://pycarnival.com/one_asterisk/)  \n",
    "[【Python3】リストのunpacking、Python3からの拡張機能](http://pycarnival.com/unpacking_python3/)\n",
    "\n",
    "1. 数値の計算\n",
    "2. 文字列の繰り返し\n",
    "3. リストやタプルの拡張\n",
    "4. 関数引数のタプル化\n",
    "5. リストやタプルのアンパッキング  "
   ]
  },
  {
   "cell_type": "code",
   "execution_count": 1,
   "metadata": {},
   "outputs": [
    {
     "output_type": "stream",
     "name": "stdout",
     "text": "0\n1\n2\n3\n4\n"
    }
   ],
   "source": [
    "# アスタリスクのアンパック機能による書き方\n",
    "nums = range(5)\n",
    "print(*nums, sep='\\n')"
   ]
  },
  {
   "cell_type": "markdown",
   "metadata": {},
   "source": [
    "## 素因数分解\n",
    "---\n",
    "ある自然数を素数の掛け算であらわすこと"
   ]
  },
  {
   "cell_type": "markdown",
   "metadata": {},
   "source": [
    "* **試し割り法(trial division) O(sqrt(N))**\n",
    "\n",
    "与えられた2以上の自然数nに対して、nより小さい数で割り切れるかどうかを順番に確かめることで素因数判定を行う  \n",
    "素因数候補として確かめるべき値の範囲は、2以上sqrt(n)以下"
   ]
  },
  {
   "cell_type": "code",
   "execution_count": null,
   "metadata": {},
   "outputs": [],
   "source": [
    "# Return a list of the prime factors for a natural number bigger than 1\n",
    "def trial_division(n):\n",
    "    if n < 2:\n",
    "        return []\n",
    "\n",
    "    prime_factors = []\n",
    "\n",
    "    # 2以上sqrt(n)以下で調べる\n",
    "    for i in range(2, int(n**0.5)+1):\n",
    "        # nがi（の累乗）で割り切れるかを調べる\n",
    "        while n % i == 0:\n",
    "            # nがiで割り切れる場合、iを素因数としてリストに追加する\n",
    "            prime_factors.append(i)\n",
    "            # nをiで割った商で更新しておく\n",
    "            n //= i\n",
    "    # nの平方根より大きい素因数が存在する場合\n",
    "    if n > 1:\n",
    "        prime_factors.append(n)\n",
    "\n",
    "    return prime_factors"
   ]
  },
  {
   "cell_type": "markdown",
   "metadata": {},
   "source": [
    "上の素因数分解を利用して、nの約数を求める"
   ]
  },
  {
   "cell_type": "code",
   "execution_count": null,
   "metadata": {},
   "outputs": [],
   "source": [
    "import itertools\n",
    "\n",
    "# nの約数のSetを返す\n",
    "def get_divisors(n):\n",
    "    # nの素因数のリストを得る\n",
    "    prime_factors = trial_division(n)\n",
    "    divisors = set()\n",
    "\n",
    "    for i in range(1, len(prime_factors)+1):\n",
    "        # 素因数をi個選んだ時の組み合わせ\n",
    "        combinations = list(itertools.combinations(prime_factors, i))\n",
    "\n",
    "        # 素因数を掛け合わせて約数を得る\n",
    "        for comb in combinations:\n",
    "            divisor = 1\n",
    "            for num in comb:\n",
    "                divisor *= num\n",
    "            divisors.add(divisor)\n",
    "\n",
    "    # 1を約数として加える\n",
    "    divisors.add(1)\n",
    "    return divisors"
   ]
  },
  {
   "cell_type": "markdown",
   "metadata": {},
   "source": [
    "素数と指数をタプルのリストにする"
   ]
  },
  {
   "cell_type": "code",
   "execution_count": null,
   "metadata": {},
   "outputs": [],
   "source": [
    "# Return a list of the tuple of the prime factors for a natural number bigger than 1\n",
    "def trial_division(n):\n",
    "    if n < 2:\n",
    "        return []\n",
    "\n",
    "    prime_factors = []\n",
    "    e = 0  # exponent\n",
    "\n",
    "    # 2以上sqrt(n)以下で調べる\n",
    "    for i in range(2, int(n**0.5)+1):\n",
    "        # nがi（の累乗）で割り切れるかを調べる\n",
    "        while n % i == 0:\n",
    "            # nがiで割り切れた場合、指数の数を更新\n",
    "            e += 1\n",
    "            # nをiで割った商で更新しておく\n",
    "            n //= i\n",
    "        if e > 0:\n",
    "            prime_factors.append((i, e))\n",
    "        e = 0\n",
    "    # nの平方根より大きい素因数が存在する場合\n",
    "    if n > 1:\n",
    "        prime_factors.append((n, 1))\n",
    "\n",
    "    return prime_factors"
   ]
  },
  {
   "cell_type": "markdown",
   "metadata": {},
   "source": [
    "## 素数発見法\n",
    "---"
   ]
  },
  {
   "cell_type": "markdown",
   "metadata": {},
   "source": [
    "* **[エラトステネスの篩(Sieve of Eratosthenes)](https://ja.wikipedia.org/wiki/%E3%82%A8%E3%83%A9%E3%83%88%E3%82%B9%E3%83%86%E3%83%8D%E3%82%B9%E3%81%AE%E7%AF%A9)**  \n",
    "ある整数以下のすべての素数を発見するアルゴリズム\n",
    "\n",
    "\n",
    "n以下のすべての素数を見つけるとする  \n",
    "1.探索リストに2からnまでの整数を並べる  \n",
    "2.先頭の数を素数リストに移動させ、その倍数を探索リストからふるい落とす  \n",
    "3.1と2の操作を先頭の値が**nの平方根**になるまで行う  \n",
    "4.探索リストに残った数を素数リストに移して終了 \n",
    "\n",
    "\n",
    "**<nの平方根まで操作を行う理由>**  \n",
    "例えば100まで調べるとき  \n",
    "1.2を素数とする場合 -> **2以外で100以下のすべての「2の倍数」を除去**  \n",
    "2.3を素数とする場合 -> **3と「2の倍数」以外で100以下のすべての「3の倍数」を除去**  \n",
    "3.5を素数とする場合 -> **5と「2の倍数」と「3の倍数」以外で100以下のすべての「5の倍数」を除去**  \n",
    "・  \n",
    "・  \n",
    "・  \n",
    "n.11を素数とする場合 -> **11と「2の倍数」と「3の倍数」と「5の倍数」と「7の倍数」以外で100以下のすべての「11の倍数」を除去**  \n",
    "**==> 除去対象は11×11、しかしそれは100を超えているのでしらべる必要はない**  \n",
    "**==> 除去作業が不必要になるタイミングは、先頭の値がnの平方根となったとき**  \n",
    "(参考)  \n",
    "[エラトステネスの篩で調べる 素数判定の上限と平方根の関係性](https://szarny.hatenablog.com/entry/2017/09/28/003352)"
   ]
  },
  {
   "cell_type": "code",
   "execution_count": null,
   "metadata": {},
   "outputs": [],
   "source": [
    "def get_sieve_of_eratosthenes(n):\n",
    "    if not isinstance(n, int):\n",
    "        raise TypeError('n is int type.')\n",
    "    if n < 2:\n",
    "        raise ValueError('n is more than 2')\n",
    "    prime = [2]\n",
    "    limit = int(n**0.5)\n",
    "    data = [i + 1 for i in range(2, n, 2)]\n",
    "    while True:\n",
    "        p = data[0]\n",
    "        if limit <= p:\n",
    "            return prime + data\n",
    "        prime.append(p)\n",
    "        data = [e for e in data if e % p != 0]"
   ]
  },
  {
   "cell_type": "markdown",
   "metadata": {},
   "source": [
    "(参考)  \n",
    "[Pythonで作るエラトステネスのふるい](https://qiita.com/fantm21/items/5e270dce9f4f1d963c1e)"
   ]
  },
  {
   "cell_type": "markdown",
   "metadata": {},
   "source": [
    "## bit全探索\n",
    "---\n",
    "「n 個の選択肢それぞれに Yes or No の二択があり、その部分集合（選択できるパターン）の全てを網羅的にチェックしたい」といった場合に使う  \n",
    "調べるパターンは2の2乗  \n",
    "この選択肢の1つ1つを2進数の bit に見立ててシフト演算でチェックを行うことから「bit 全探索」と呼ばれるが、やっていることは単なる全探索"
   ]
  },
  {
   "cell_type": "markdown",
   "metadata": {},
   "source": [
    "(例) AtCoder [ABC079 C](https://atcoder.jp/contests/abc079/tasks/abc079_c)"
   ]
  },
  {
   "cell_type": "code",
   "execution_count": null,
   "metadata": {},
   "outputs": [],
   "source": [
    "n = [i for i in input()]\n",
    "length = len(n) -1\n",
    "\n",
    "for i in range(2 ** length):\n",
    "    ops = ['-'] * length\n",
    "    for j in range(length):\n",
    "        if (i >> j) & 1:\n",
    "            ops[length - 1 - j] = '+'\n",
    "    \n",
    "    formula = str()\n",
    "    for num , op in zip(n, ops + ['']):\n",
    "        formula += (num + op)\n",
    "    \n",
    "    if eval(formula) == 7:\n",
    "        print(formula+'=7')\n",
    "        break"
   ]
  },
  {
   "cell_type": "markdown",
   "metadata": {},
   "source": [
    "## 浮動小数点数の精度\n",
    "---"
   ]
  },
  {
   "cell_type": "markdown",
   "metadata": {},
   "source": [
    "### --> **精度の桁数より求めたい数が大きくなると誤差が生じる**\n",
    "\n",
    "解決策２つ\n",
    "\n",
    " 1. ***浮動小数点数を整数に直し、整数のみの計算を行う***\n",
    " 2. ***decimal.Decimalを使う***\n",
    " \n",
    "参考web\n",
    " * [pythonの除算結果が浮動小数点数になったので、必要な精度が失われた話](https://linus-mk.hatenablog.com/entry/2019/05/26/234642)\n",
    " * [【Python3】Decimalモジュールを使った、精度の高い小数点以下の数値計算](http://automaprog.hatenadiary.jp/entry/2017/04/09/180520)"
   ]
  },
  {
   "cell_type": "markdown",
   "metadata": {},
   "source": [
    "(例) AtCoder [ABC169 C](https://atcoder.jp/contests/abc169/tasks/abc169_c)"
   ]
  },
  {
   "cell_type": "markdown",
   "metadata": {},
   "source": [
    "## 累積和\n",
    "---"
   ]
  },
  {
   "cell_type": "markdown",
   "metadata": {},
   "source": [
    "適切な前処理をしておくことで、配列上の区間の総和を求めるクエリを爆速で処理できるようになる手法\n",
    "\n",
    "* 前処理にO(N)だけの時間をかける  \n",
    "* 記憶容量はO(N)でよい  \n",
    "* 前処理をしておけば、毎回のクエリにO(1)で爆速で答えることができる\n",
    "\n",
    "配列aに対して累積和sを求めると、配列aの区間\\[left, right]の総和が  \n",
    "**s\\[right] - s\\[left]**  \n",
    "でO(1)で求められる\n",
    "\n",
    "(参考)  \n",
    "[累積和を何も考えずに書けるようにする！](https://qiita.com/drken/items/56a6b68edef8fc605821#2-1-%E7%B4%AF%E7%A9%8D%E5%92%8C%E3%81%A8%E3%81%AF%E4%BD%95%E3%81%8B)"
   ]
  },
  {
   "cell_type": "markdown",
   "metadata": {},
   "source": [
    "* 普通の関数"
   ]
  },
  {
   "cell_type": "code",
   "execution_count": null,
   "metadata": {},
   "outputs": [],
   "source": [
    "def cumsum(xs):\n",
    "  result = [xs[0]]\n",
    "  for x in xs[1:]:\n",
    "    result.append(result[-1] + x)\n",
    "  return result"
   ]
  },
  {
   "cell_type": "markdown",
   "metadata": {},
   "source": [
    "* Numpyのcumsum関数"
   ]
  },
  {
   "cell_type": "code",
   "execution_count": null,
   "metadata": {},
   "outputs": [],
   "source": [
    "import numpy\n",
    "res = numpy.cumsum(mydata)"
   ]
  },
  {
   "cell_type": "markdown",
   "metadata": {},
   "source": [
    "## いもす法\n",
    "---"
   ]
  },
  {
   "cell_type": "markdown",
   "metadata": {},
   "source": [
    "配列のある連続する区間にある数を足すという操作をK回繰り返した結果を、計算量O(N+K)で求める手法\n",
    "\n",
    "区間\\[left:right]にxを加算  \n",
    "\n",
    "1. 加算処理  \n",
    "  * left番目の値にxを加算  \n",
    "  * right+1番目の値に-xを加算  \n",
    "2. 累積和  \n",
    "  * その配列の累積和を求める  \n",
    "\n",
    "(例) [AtCoder 東京海上日動プログラミングコンテスト2020 C](https://atcoder.jp/contests/tokiomarine2020/tasks/tokiomarine2020_c)  \n",
    "\n",
    "(参考)  \n",
    "[Pythonでいもす法](https://takeg.hatenadiary.jp/entry/2019/08/28/213526)  \n",
    "[累積和といもす(imos)法](https://qiita.com/DaikiSuyama/items/67547e14b47cd6360252)"
   ]
  },
  {
   "cell_type": "markdown",
   "metadata": {},
   "source": [
    "## Numbaで高速化\n",
    "---"
   ]
  },
  {
   "cell_type": "markdown",
   "metadata": {},
   "source": [
    "Numbaモジュールのjitデコレーターを関数につけることによって処理を高速化することが出来る\n",
    "\n",
    "(参考)  \n",
    "[PythonコードをNumbaで高速化したときのメモ](https://qiita.com/toyolab/items/b5d95bd38b3c7c66b510)  \n",
    "[Python高速化　Numba入門　その2](https://yutori-datascience.hatenablog.com/entry/2014/12/10/123157)"
   ]
  },
  {
   "cell_type": "code",
   "execution_count": null,
   "metadata": {},
   "outputs": [],
   "source": [
    "from numba import njit, i8\n",
    "\n",
    "@njit(i8(i8,i8), cache=True)\n",
    "def sum(x, y):\n",
    "    return x+y"
   ]
  },
  {
   "cell_type": "markdown",
   "metadata": {},
   "source": [
    "* njitはjit(nopython=True)と同じ  \n",
    "* i8(i8,i8)は型指定(より高速になる)  \n",
    "* cacheを使うことによって2回目以降その関数を使うときはcacheを使う"
   ]
  },
  {
   "cell_type": "markdown",
   "metadata": {},
   "source": [
    "## itertoolsのまとめ  \n",
    "---"
   ]
  },
  {
   "cell_type": "markdown",
   "metadata": {},
   "source": [
    "(参考)  \n",
    "[Pythonで競プロするのに必要な機能をまとめてみた~itertools~](https://qiita.com/DaikiSuyama/items/11f63a94d63fa72e8bf4#4combinations_with_replacement%E9%96%A2%E6%95%B0)"
   ]
  }
 ],
 "metadata": {
  "language_info": {
   "codemirror_mode": {
    "name": "ipython",
    "version": 3
   },
   "file_extension": ".py",
   "mimetype": "text/x-python",
   "name": "python",
   "nbconvert_exporter": "python",
   "pygments_lexer": "ipython3",
   "version": "3.7.4-final"
  },
  "orig_nbformat": 2,
  "kernelspec": {
   "name": "python3",
   "display_name": "Python 3"
  }
 },
 "nbformat": 4,
 "nbformat_minor": 2
}