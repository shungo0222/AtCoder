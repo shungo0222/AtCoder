{
 "cells": [
  {
   "cell_type": "markdown",
   "metadata": {},
   "source": [
    "# Note\n",
    "---"
   ]
  },
  {
   "cell_type": "markdown",
   "metadata": {},
   "source": [
    "* ## 再帰関数\n",
    "\n",
    "基本のルール\n",
    " * 再帰終了条件を持たなければならない\n",
    " * 状態を変えながら再帰終了条件に進んでいかなければならない\n",
    " * 再帰的に関数自身を呼び出さなければならない\n",
    "\n",
    "```python\n",
    "# 1からnまでの和を求める再帰関数\n",
    "def sum(n):\n",
    "    if n == 0:\n",
    "        return n\n",
    "    return n + sum(n-1)\n",
    "```\n",
    "\n",
    "Pythonは再帰限界が1000回と決められているので、必要ならばこの限界を上げておく\n",
    "(再帰はやや遅いので競プロでは使わないほうが良い)\n",
    "```python\n",
    "import sys\n",
    "sys.setrecursionlimit(10**8)\n",
    "```"
   ]
  }
 ],
 "metadata": {
  "language_info": {
   "codemirror_mode": {
    "name": "ipython",
    "version": 3
   },
   "file_extension": ".py",
   "mimetype": "text/x-python",
   "name": "python",
   "nbconvert_exporter": "python",
   "pygments_lexer": "ipython3",
   "version": 3
  },
  "orig_nbformat": 2
 },
 "nbformat": 4,
 "nbformat_minor": 2
}