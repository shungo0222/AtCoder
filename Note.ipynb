{
 "cells": [
  {
   "cell_type": "markdown",
   "metadata": {},
   "source": [
    "# Note\n",
    "---"
   ]
  },
  {
   "cell_type": "markdown",
   "metadata": {},
   "source": [
    "## 再帰関数\n",
    "---\n",
    "\n",
    "基本のルール\n",
    " * 再帰終了条件を持たなければならない\n",
    " * 状態を変えながら再帰終了条件に進んでいかなければならない\n",
    " * 再帰的に関数自身を呼び出さなければならない\n",
    "\n",
    "```python\n",
    "# 1からnまでの和を求める再帰関数\n",
    "def sum(n):\n",
    "    if n == 0:\n",
    "        return n\n",
    "    return n + sum(n-1)\n",
    "```\n",
    "\n",
    "Pythonは再帰限界が1000回と決められているので、必要ならばこの限界を上げておく  \n",
    "(再帰はやや遅いので競プロでは使わないほうが良い)\n",
    "```python\n",
    "import sys\n",
    "sys.setrecursionlimit(10**8)\n",
    "```"
   ]
  },
  {
   "cell_type": "markdown",
   "metadata": {},
   "source": [
    "## n進数変換関数\n",
    "--- \n",
    "参照  \n",
    "[Python で10進数とn進数の変換](http://iatlex.com/python/base_change)"
   ]
  },
  {
   "cell_type": "code",
   "execution_count": 1,
   "metadata": {},
   "outputs": [],
   "source": [
    "# 10進数からn進数へ\n",
    "def Base_10_to_n(X, n):\n",
    "    if (int(X/n)):\n",
    "        return Base_10_to_n(int(X/n), n)+str(X%n)\n",
    "    return str(X%n)"
   ]
  },
  {
   "cell_type": "code",
   "execution_count": null,
   "metadata": {},
   "outputs": [],
   "source": [
    "# n進数から10進数へ\n",
    "def Base_n_to_10(X,n):\n",
    "    out = 0\n",
    "    for i in range(1,len(str(X))+1):\n",
    "        out += int(X[-i])*(n**(i-1))\n",
    "    return out  # int out"
   ]
  },
  {
   "cell_type": "markdown",
   "metadata": {},
   "source": [
    "## *(アスタリスク)1個の機能\n",
    "---\n",
    "参照  \n",
    "[【Python3入門】*(アスタリスク)1個の機能まとめ](https://pycarnival.com/one_asterisk/)  \n",
    "[【Python3】リストのunpacking、Python3からの拡張機能](http://pycarnival.com/unpacking_python3/)\n",
    "\n",
    "1. 数値の計算\n",
    "2. 文字列の繰り返し\n",
    "3. リストやタプルの拡張\n",
    "4. 関数引数のタプル化\n",
    "5. リストやタプルのアンパッキング  "
   ]
  },
  {
   "cell_type": "code",
   "execution_count": 1,
   "metadata": {},
   "outputs": [
    {
     "output_type": "stream",
     "name": "stdout",
     "text": "0\n1\n2\n3\n4\n"
    }
   ],
   "source": [
    "# アスタリスクのアンパック機能による書き方\n",
    "nums = range(5)\n",
    "print(*nums, sep='\\n')"
   ]
  }
 ],
 "metadata": {
  "language_info": {
   "codemirror_mode": {
    "name": "ipython",
    "version": 3
   },
   "file_extension": ".py",
   "mimetype": "text/x-python",
   "name": "python",
   "nbconvert_exporter": "python",
   "pygments_lexer": "ipython3",
   "version": "3.7.4-final"
  },
  "orig_nbformat": 2,
  "kernelspec": {
   "name": "python3",
   "display_name": "Python 3"
  }
 },
 "nbformat": 4,
 "nbformat_minor": 2
}