{
 "cells": [
  {
   "cell_type": "markdown",
   "metadata": {},
   "source": [
    "# [東京海上日動　プログラミングコンテスト　2020](https://atcoder.jp/contests/tokiomarine2020)\n",
    "---"
   ]
  },
  {
   "cell_type": "markdown",
   "metadata": {},
   "source": [
    "## **A (AC)**"
   ]
  },
  {
   "cell_type": "code",
   "execution_count": null,
   "metadata": {},
   "outputs": [],
   "source": [
    "import sys\n",
    "input = lambda: sys.stdin.readline().rstrip()\n",
    "\n",
    "def main():\n",
    "    s = input()\n",
    "    print(s[:3])\n",
    "\n",
    "if __name__ == '__main__':\n",
    "    main()"
   ]
  },
  {
   "cell_type": "markdown",
   "metadata": {},
   "source": [
    "## **B (AC)**"
   ]
  },
  {
   "cell_type": "code",
   "execution_count": null,
   "metadata": {},
   "outputs": [],
   "source": [
    "import sys\n",
    "input = lambda: sys.stdin.readline().rstrip()\n",
    "\n",
    "def main():\n",
    "    a, v = map(int, input().split())\n",
    "    b, w = map(int, input().split())\n",
    "    t = int(input())\n",
    "    if a < b:\n",
    "        if b + (w * t) <= a + (v * t):\n",
    "            print('YES')\n",
    "        else:\n",
    "            print('NO')\n",
    "    else:\n",
    "        if b + -(w * t) >= a + -(v * t):\n",
    "            print('YES')\n",
    "        else:\n",
    "            print('NO')\n",
    "\n",
    "if __name__ == '__main__':\n",
    "    main()"
   ]
  },
  {
   "cell_type": "markdown",
   "metadata": {},
   "source": [
    "## **C (TLE)**"
   ]
  },
  {
   "cell_type": "code",
   "execution_count": null,
   "metadata": {},
   "outputs": [],
   "source": [
    "import sys\n",
    "input = lambda: sys.stdin.readline().rstrip()\n",
    "\n",
    "def main():\n",
    "    n, k = map(int, input().split())\n",
    "    a = list(map(int, input().split()))\n",
    "    for _ in range(k):\n",
    "        tmp = [0] * n\n",
    "        for i in range(n):\n",
    "            for j in range((i+1) - a[i], (i+1) + a[i] + 1):\n",
    "                if 1 <= j <= n:\n",
    "                    tmp[j-1] += 1\n",
    "                    if len(set(tmp)) == 1 and n in set(tmp):\n",
    "                        print(*tmp)\n",
    "                        return\n",
    "        a = tmp.copy()\n",
    "    print(*a)\n",
    "\n",
    "if __name__ == '__main__':\n",
    "    main()"
   ]
  },
  {
   "cell_type": "markdown",
   "metadata": {},
   "source": [
    "## **C (review)**"
   ]
  },
  {
   "cell_type": "markdown",
   "metadata": {},
   "source": [
    "ポイント\n",
    "* いもす法  \n",
    "* Numbaのjitデコレーター"
   ]
  },
  {
   "cell_type": "code",
   "execution_count": null,
   "metadata": {},
   "outputs": [],
   "source": [
    "import sys\n",
    "import numpy as np\n",
    "from numba import njit, i8\n",
    "input = lambda: sys.stdin.readline().rstrip()\n",
    "\n",
    "@njit(i8[:](i8[:]), cache=True)\n",
    "def count(a):\n",
    "    tmp = np.zeros_like(a)\n",
    "    for index, num in enumerate(a):\n",
    "        left = max(0, index-num)      \n",
    "        right = min(len(a)-1, index+num)  \n",
    "        tmp[left] += 1              \n",
    "        if right + 1 < len(a):\n",
    "            tmp[right + 1] -= 1\n",
    "    tmp = np.cumsum(tmp)\n",
    "    return tmp\n",
    "\n",
    "def main():\n",
    "    n, k = map(int, input().split())\n",
    "    a = np.array(list(map(int, input().split())))\n",
    "    for _ in range(k):\n",
    "        a = count(a)\n",
    "        if len(set(a)) == 1 and n in set(a):\n",
    "            print(*a)\n",
    "            return\n",
    "    print(*a)\n",
    "\n",
    "if __name__ == '__main__':\n",
    "    main()"
   ]
  }
 ],
 "metadata": {
  "language_info": {
   "codemirror_mode": {
    "name": "ipython",
    "version": 3
   },
   "file_extension": ".py",
   "mimetype": "text/x-python",
   "name": "python",
   "nbconvert_exporter": "python",
   "pygments_lexer": "ipython3",
   "version": 3
  },
  "orig_nbformat": 2
 },
 "nbformat": 4,
 "nbformat_minor": 2
}