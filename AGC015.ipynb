{
 "metadata": {
  "language_info": {
   "codemirror_mode": {
    "name": "ipython",
    "version": 3
   },
   "file_extension": ".py",
   "mimetype": "text/x-python",
   "name": "python",
   "nbconvert_exporter": "python",
   "pygments_lexer": "ipython3",
   "version": 3
  },
  "orig_nbformat": 2
 },
 "nbformat": 4,
 "nbformat_minor": 2,
 "cells": [
  {
   "cell_type": "markdown",
   "metadata": {},
   "source": [
    "# [AGC015](https://atcoder.jp/contests/agc015)\n",
    "---"
   ]
  },
  {
   "cell_type": "markdown",
   "metadata": {},
   "source": [
    "## **A (AC)**"
   ]
  },
  {
   "cell_type": "code",
   "execution_count": null,
   "metadata": {},
   "outputs": [],
   "source": [
    "import sys\n",
    "input = lambda: sys.stdin.readline().rstrip()\n",
    "\n",
    "def main():\n",
    "    n, a, b = map(int, input().split())\n",
    "    if (a > b) or (n==1 and a<b):\n",
    "        print(0)\n",
    "    elif n == 1 and a == b:\n",
    "        print(1)\n",
    "    else:\n",
    "        print(n*(b-a)+2*(a-b)+1)\n",
    "            \n",
    "if __name__ == '__main__':\n",
    "    main()"
   ]
  },
  {
   "cell_type": "markdown",
   "metadata": {},
   "source": [
    "## **B (AC)**"
   ]
  },
  {
   "cell_type": "code",
   "execution_count": null,
   "metadata": {},
   "outputs": [],
   "source": [
    "import sys\n",
    "input = lambda: sys.stdin.readline().rstrip()\n",
    "\n",
    "def main():\n",
    "    s = list(input())\n",
    "    length = len(s)\n",
    "    cnt = 0\n",
    "    for i in range(length):\n",
    "        if i == 0 or i == length - 1:\n",
    "            cnt += length - 1\n",
    "        elif s[i] == 'U':\n",
    "            cnt += (length-i-1) + 2*i\n",
    "        else:\n",
    "            cnt += i + 2*(length-i-1)\n",
    "    print(cnt)\n",
    "            \n",
    "if __name__ == '__main__':\n",
    "    main()"
   ]
  }
 ]
}