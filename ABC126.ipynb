{
 "cells": [
  {
   "cell_type": "markdown",
   "metadata": {},
   "source": [
    "# [ABC126](https://atcoder.jp/contests/abc126)\n",
    "---"
   ]
  },
  {
   "cell_type": "markdown",
   "metadata": {},
   "source": [
    "## **A (AC)**"
   ]
  },
  {
   "cell_type": "code",
   "execution_count": null,
   "metadata": {},
   "outputs": [],
   "source": [
    "import sys\n",
    "input = lambda: sys.stdin.readline().rstrip()\n",
    "\n",
    "def main():\n",
    "    n, k = map(int, input().split())\n",
    "    s = list(input())\n",
    "    s[k-1] = s[k-1].lower()\n",
    "    print(*s, sep='')\n",
    "    \n",
    "if __name__ == '__main__':\n",
    "    main()"
   ]
  },
  {
   "cell_type": "markdown",
   "metadata": {},
   "source": [
    "## **B (AC)**"
   ]
  },
  {
   "cell_type": "code",
   "execution_count": null,
   "metadata": {},
   "outputs": [],
   "source": [
    "import sys\n",
    "input = lambda: sys.stdin.readline().rstrip()\n",
    "\n",
    "def main():\n",
    "    s = input()\n",
    "    month = [i for i in range(1, 13)]\n",
    "    if int(s[:2]) not in month and int(s[2:]) in month:\n",
    "        print('YYMM')\n",
    "    elif int(s[:2]) in month and int(s[2:]) not in month:\n",
    "        print('MMYY')\n",
    "    elif int(s[:2]) in month and int(s[2:]) in month:\n",
    "        print('AMBIGUOUS')\n",
    "    else:\n",
    "        print('NA')\n",
    "    \n",
    "if __name__ == '__main__':\n",
    "    main()"
   ]
  },
  {
   "cell_type": "markdown",
   "metadata": {},
   "source": [
    "## **C (AC)**"
   ]
  },
  {
   "cell_type": "code",
   "execution_count": null,
   "metadata": {},
   "outputs": [],
   "source": [
    "import sys\n",
    "input = lambda: sys.stdin.readline().rstrip()\n",
    "\n",
    "def main():\n",
    "    n, k = map(int, input().split())\n",
    "    ans = 0\n",
    "    for i in range(1, n+1):\n",
    "        x = 0\n",
    "        while i < k:\n",
    "            x += 1\n",
    "            i *= 2\n",
    "        ans += (1 / n) * (1 / 2)**x\n",
    "    print(ans)\n",
    "    \n",
    "if __name__ == '__main__':\n",
    "    main()"
   ]
  }
 ],
 "metadata": {
  "language_info": {
   "codemirror_mode": {
    "name": "ipython",
    "version": 3
   },
   "file_extension": ".py",
   "mimetype": "text/x-python",
   "name": "python",
   "nbconvert_exporter": "python",
   "pygments_lexer": "ipython3",
   "version": 3
  },
  "orig_nbformat": 2
 },
 "nbformat": 4,
 "nbformat_minor": 2
}