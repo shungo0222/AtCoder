{
 "cells": [
  {
   "cell_type": "markdown",
   "metadata": {},
   "source": [
    "# [ABC169](https://atcoder.jp/contests/abc169)\n",
    "---"
   ]
  },
  {
   "cell_type": "markdown",
   "metadata": {},
   "source": [
    "## **A (AC)**"
   ]
  },
  {
   "cell_type": "code",
   "execution_count": 1,
   "metadata": {},
   "outputs": [
    {
     "output_type": "stream",
     "name": "stdout",
     "text": "10\n"
    }
   ],
   "source": [
    "a, b = map(int, input().split())\n",
    "print(a*b)"
   ]
  },
  {
   "cell_type": "markdown",
   "metadata": {},
   "source": [
    "## **B (AC)**"
   ]
  },
  {
   "cell_type": "code",
   "execution_count": 34,
   "metadata": {},
   "outputs": [
    {
     "output_type": "stream",
     "name": "stdout",
     "text": "0\n"
    }
   ],
   "source": [
    "import sys\n",
    " \n",
    "def main():\n",
    "    # input = sys.stdin.readline\n",
    "    n = int(input())\n",
    "    a = list(map(int, input().split()))\n",
    "    ans = 1\n",
    " \n",
    "    if 0 in a:\n",
    "        print(0)\n",
    "    else:\n",
    "        for i in range(len(a)):\n",
    "            ans *= a[i]\n",
    "            if ans > (10**18):\n",
    "                print(-1)\n",
    "                sys.exit()\n",
    "        else:\n",
    "            print(ans)\n",
    " \n",
    "if __name__ == '__main__':\n",
    "    main()"
   ]
  },
  {
   "cell_type": "markdown",
   "metadata": {},
   "source": [
    "## **C (WA)**"
   ]
  },
  {
   "cell_type": "code",
   "execution_count": 35,
   "metadata": {},
   "outputs": [
    {
     "output_type": "stream",
     "name": "stdout",
     "text": "217\n"
    }
   ],
   "source": [
    "import sys\n",
    "# input = sys.stdin.readline\n",
    "a, b = map(float, input().split())\n",
    "print(int(a*b))"
   ]
  },
  {
   "cell_type": "markdown",
   "metadata": {},
   "source": [
    "## **C (review)**"
   ]
  },
  {
   "cell_type": "markdown",
   "metadata": {},
   "source": [
    "<u>浮動小数点数の計算における**精度**についての問題</u>\n",
    "### --> **精度の桁数より求めたい数が大きくなると誤差が生じる**\n",
    "\n",
    "解決策２つ\n",
    "\n",
    " 1. ***浮動小数点数を整数に直し、整数のみの計算を行う***\n",
    " 2. ***decimal.Decimalを使う***\n",
    " \n",
    "参考web\n",
    " * [pythonの除算結果が浮動小数点数になったので、必要な精度が失われた話](https://linus-mk.hatenablog.com/entry/2019/05/26/234642)\n",
    " * [【Python3】Decimalモジュールを使った、精度の高い小数点以下の数値計算](http://automaprog.hatenadiary.jp/entry/2017/04/09/180520)"
   ]
  },
  {
   "cell_type": "markdown",
   "metadata": {},
   "source": [
    "### 1. **浮動小数点数を整数に直し、整数のみの計算を行う (AC)**\n",
    "\n",
    "今回は文字列として処理をする"
   ]
  },
  {
   "cell_type": "code",
   "execution_count": 37,
   "metadata": {},
   "outputs": [
    {
     "output_type": "stream",
     "name": "stdout",
     "text": "217\n"
    }
   ],
   "source": [
    "import sys\n",
    "# input = sys.stdin.readline\n",
    " \n",
    "def main():\n",
    "    a, b = input().split()\n",
    "    a = int(a)\n",
    "    b = int(b.replace('.',''))\n",
    "    print(a*b//100)\n",
    " \n",
    "if __name__ == '__main__':\n",
    "    main()"
   ]
  },
  {
   "cell_type": "markdown",
   "metadata": {},
   "source": [
    "### 2. **decimal.Decimalを使う (AC)**\n",
    "\n",
    "Pythonの標準ライブラリの一つで十進数の計算をするモジュール  \n",
    "decimal.Decimal型は整数、文字列、タプルから作る  \n",
    "float型を使うときは文字列に直して計算する"
   ]
  },
  {
   "cell_type": "code",
   "execution_count": 38,
   "metadata": {},
   "outputs": [
    {
     "output_type": "stream",
     "name": "stdout",
     "text": "217\n"
    }
   ],
   "source": [
    "import sys\n",
    "from decimal import Decimal\n",
    "# input = sys.stdin.readline\n",
    " \n",
    "def main():\n",
    "    a, b = input().split()\n",
    "    print(int(Decimal(a)*Decimal(b)))\n",
    " \n",
    "if __name__ == '__main__':\n",
    "    main()"
   ]
  }
 ],
 "metadata": {
  "language_info": {
   "codemirror_mode": {
    "name": "ipython",
    "version": 3
   },
   "file_extension": ".py",
   "mimetype": "text/x-python",
   "name": "python",
   "nbconvert_exporter": "python",
   "pygments_lexer": "ipython3",
   "version": "3.7.4-final"
  },
  "orig_nbformat": 2,
  "kernelspec": {
   "name": "python3",
   "display_name": "Python 3"
  }
 },
 "nbformat": 4,
 "nbformat_minor": 2
}