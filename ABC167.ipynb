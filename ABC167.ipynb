{
 "cells": [
  {
   "cell_type": "markdown",
   "metadata": {},
   "source": [
    "# [ABC167](https://atcoder.jp/contests/abc167)\n",
    "---"
   ]
  },
  {
   "cell_type": "markdown",
   "metadata": {},
   "source": [
    "## **A (AC)**"
   ]
  },
  {
   "cell_type": "code",
   "execution_count": 1,
   "metadata": {},
   "outputs": [
    {
     "name": "stdin",
     "output_type": "stream",
     "text": [
      " chokudai\n",
      " chokudaiz\n"
     ]
    },
    {
     "name": "stdout",
     "output_type": "stream",
     "text": [
      "Yes\n"
     ]
    }
   ],
   "source": [
    "s = input()\n",
    "t = input()\n",
    " \n",
    "if((s==t[:-1]) and ((len(s)+1)==len(t))):\n",
    "  print('Yes')\n",
    "else:\n",
    "  print('No')"
   ]
  },
  {
   "cell_type": "markdown",
   "metadata": {},
   "source": [
    "## **B (AC)**"
   ]
  },
  {
   "cell_type": "code",
   "execution_count": 2,
   "metadata": {},
   "outputs": [
    {
     "name": "stdin",
     "output_type": "stream",
     "text": [
      " 2 1 1 3\n"
     ]
    },
    {
     "name": "stdout",
     "output_type": "stream",
     "text": [
      "2\n"
     ]
    }
   ],
   "source": [
    "a, b, c, k = list(map(int, input().split()))\n",
    " \n",
    "max = 0\n",
    "if(a >= k):\n",
    "  max = k\n",
    "else:\n",
    "  max = a\n",
    "  k -= a\n",
    "  if(b >= k):\n",
    "    pass\n",
    "  else:\n",
    "    k -= b\n",
    "    max -= k\n",
    " \n",
    "print(max)"
   ]
  },
  {
   "cell_type": "markdown",
   "metadata": {},
   "source": [
    "## **C (WA)**"
   ]
  },
  {
   "cell_type": "code",
   "execution_count": null,
   "metadata": {},
   "outputs": [],
   "source": [
    "import sys\n",
    "import numpy as np\n",
    "n, m, x = list(map(int, input().split()))\n",
    "c = []\n",
    "a = []\n",
    "price = 0\n",
    "m_achive = [0 for _ in range(m)]\n",
    "for i in sys.stdin:\n",
    "  temp = list(map(int, i.split()))\n",
    "  c.append(temp[0])\n",
    "  a.append(list(temp[1:])) \n",
    " \n",
    "array = np.array(a).transpose()\n",
    " \n",
    "if(sum(array[0])>x):\n",
    "  sorted(array[0], reverse=True)\n",
    "else:\n",
    "  print('-1')"
   ]
  },
  {
   "cell_type": "markdown",
   "metadata": {},
   "source": [
    "## **C (review)**"
   ]
  },
  {
   "cell_type": "markdown",
   "metadata": {},
   "source": [
    "* bit全探索"
   ]
  },
  {
   "cell_type": "code",
   "execution_count": 3,
   "metadata": {},
   "outputs": [
    {
     "name": "stdin",
     "output_type": "stream",
     "text": [
      " 3 3 10\n",
      " 60 2 2 4\n",
      " 70 8 7 9\n",
      " 50 2 3 9\n"
     ]
    },
    {
     "name": "stdout",
     "output_type": "stream",
     "text": [
      "120\n"
     ]
    }
   ],
   "source": [
    "n, m, x = map(int, input().split())\n",
    "books = [list(map(int, input().split())) for _ in range(n)]\n",
    "money = []\n",
    " \n",
    "for i in range(2 ** n):\n",
    "    value = [0] * (m+1)\n",
    "    for j in range(n):\n",
    "        if (i >> j) & 1:\n",
    "            value = [value[k]+books[j][k] for k in range(m+1)]\n",
    "            \n",
    "    for l in range(m):\n",
    "        if value[l+1] < x:\n",
    "            break\n",
    "        elif l == m-1:\n",
    "            money.append(value[0])\n",
    "            \n",
    "if len(money) == 0:\n",
    "    print('-1')\n",
    "else:\n",
    "    print(min(money))"
   ]
  }
 ],
 "metadata": {
  "kernelspec": {
   "display_name": "Python 3",
   "language": "python",
   "name": "python3"
  },
  "language_info": {
   "codemirror_mode": {
    "name": "ipython",
    "version": 3
   },
   "file_extension": ".py",
   "mimetype": "text/x-python",
   "name": "python",
   "nbconvert_exporter": "python",
   "pygments_lexer": "ipython3",
   "version": "3.7.6"
  }
 },
 "nbformat": 4,
 "nbformat_minor": 4
}
