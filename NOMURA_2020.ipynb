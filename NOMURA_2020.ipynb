{
 "cells": [
  {
   "cell_type": "markdown",
   "metadata": {},
   "source": [
    "# [NOMURA プログラミングコンテスト 2020](https://atcoder.jp/contests/nomura2020)\n",
    "---"
   ]
  },
  {
   "cell_type": "markdown",
   "metadata": {},
   "source": [
    "## **A (AC)**"
   ]
  },
  {
   "cell_type": "code",
   "execution_count": 1,
   "metadata": {},
   "outputs": [
    {
     "output_type": "stream",
     "name": "stdout",
     "text": "270\n"
    }
   ],
   "source": [
    "h1, m1, h2, m2, k = map(int, input().split())\n",
    "print((((h2 - h1) * 60) - m1 + m2) - k)"
   ]
  },
  {
   "cell_type": "markdown",
   "metadata": {},
   "source": [
    "## **B (TLE)**\n",
    "* bit全探索で全ての組み合わせを調べ、値が最大のものを出力する "
   ]
  },
  {
   "cell_type": "code",
   "execution_count": 2,
   "metadata": {},
   "outputs": [
    {
     "output_type": "stream",
     "name": "stdout",
     "text": "PDDDDDP\n"
    }
   ],
   "source": [
    "import collections\n",
    "t = list(input())\n",
    "T = collections.Counter(t)\n",
    "cnt = T['?']\n",
    "score = 0\n",
    "ans = str()\n",
    " \n",
    "for i in range(2 ** cnt):\n",
    "    PorD = ['D'] * cnt\n",
    "    for j in range(cnt):\n",
    "        if i >> j & 1:\n",
    "            PorD[cnt-1-j] = 'P'\n",
    "    \n",
    "    l = 0\n",
    "    pd = 0\n",
    "    new_list = t.copy()\n",
    "    for k in range(len(new_list)):\n",
    "        if new_list[k] == '?':\n",
    "            new_list[k] = PorD[l]\n",
    "            l += 1\n",
    "        if k < len(new_list)-1:\n",
    "            if new_list[k] == 'P' and new_list[k+1] == 'D':\n",
    "                pd += 1\n",
    "            \n",
    "    if  score < (new_list.count('D') + pd):\n",
    "        score = (new_list.count('D') + pd)\n",
    "        ans = ''.join(new_list)\n",
    "        \n",
    "print(ans)"
   ]
  },
  {
   "cell_type": "markdown",
   "metadata": {},
   "source": [
    "## **B (review)**"
   ]
  },
  {
   "cell_type": "markdown",
   "metadata": {},
   "source": [
    "* (AC) 全ての組み合わせを調べる必要はない<br><br>\n",
    "二つの組み合わせで考える\n",
    "  * 二つ目の文字が'P'の場合\n",
    "    * PP -> 0\n",
    "    * DP -> +1\n",
    "  * 二つ目の文字が'D'の場合\n",
    "    * PD -> +1\n",
    "    * DD -> +2\n",
    "\n",
    "&emsp; => '?'を'D'に置き換えればいいだけ"
   ]
  },
  {
   "cell_type": "code",
   "execution_count": 1,
   "metadata": {},
   "outputs": [
    {
     "output_type": "stream",
     "name": "stdout",
     "text": "PDPD\n"
    }
   ],
   "source": [
    "t = input()\n",
    "print(t.replace('?', 'D'))"
   ]
  }
 ],
 "metadata": {
  "language_info": {
   "codemirror_mode": {
    "name": "ipython",
    "version": 3
   },
   "file_extension": ".py",
   "mimetype": "text/x-python",
   "name": "python",
   "nbconvert_exporter": "python",
   "pygments_lexer": "ipython3",
   "version": "3.7.4-final"
  },
  "orig_nbformat": 2,
  "kernelspec": {
   "name": "python3",
   "display_name": "Python 3"
  }
 },
 "nbformat": 4,
 "nbformat_minor": 2
}