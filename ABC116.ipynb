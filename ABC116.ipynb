{
 "metadata": {
  "language_info": {
   "codemirror_mode": {
    "name": "ipython",
    "version": 3
   },
   "file_extension": ".py",
   "mimetype": "text/x-python",
   "name": "python",
   "nbconvert_exporter": "python",
   "pygments_lexer": "ipython3",
   "version": "3.7.4-final"
  },
  "orig_nbformat": 2,
  "kernelspec": {
   "name": "python3",
   "display_name": "Python 3"
  }
 },
 "nbformat": 4,
 "nbformat_minor": 2,
 "cells": [
  {
   "cell_type": "markdown",
   "metadata": {},
   "source": [
    "# [ABC116](https://atcoder.jp/contests/abc116)\n",
    "---"
   ]
  },
  {
   "cell_type": "markdown",
   "metadata": {},
   "source": [
    "## **A (AC)**"
   ]
  },
  {
   "cell_type": "code",
   "execution_count": null,
   "metadata": {},
   "outputs": [],
   "source": [
    "import sys\n",
    "input = lambda: sys.stdin.readline().rstrip()\n",
    "\n",
    "def main():\n",
    "    a, b, c = map(int, input().split())\n",
    "    print(a*b//2)\n",
    "        \n",
    "if __name__ == '__main__':\n",
    "    main()"
   ]
  },
  {
   "cell_type": "markdown",
   "metadata": {},
   "source": [
    "## **B (AC)**"
   ]
  },
  {
   "cell_type": "code",
   "execution_count": null,
   "metadata": {},
   "outputs": [],
   "source": [
    "import sys\n",
    "input = lambda: sys.stdin.readline().rstrip()\n",
    "\n",
    "def main():\n",
    "    a = int(input())\n",
    "    exist = [0] * (10**6 + 1)\n",
    "    exist[a] = 1\n",
    "    ans = 1\n",
    "    while(True):\n",
    "        ans += 1\n",
    "        if a%2 == 0: \n",
    "            a //= 2\n",
    "        else: \n",
    "            a = 3*a + 1\n",
    "        if exist[a] == 1: \n",
    "            print(ans)\n",
    "            return\n",
    "        else: \n",
    "            exist[a] = 1\n",
    "        \n",
    "if __name__ == '__main__':\n",
    "    main()"
   ]
  },
  {
   "cell_type": "markdown",
   "metadata": {},
   "source": [
    "## **C (AC)**"
   ]
  },
  {
   "cell_type": "markdown",
   "metadata": {},
   "source": [
    "0で初期化されている配列のある部分に対して1を足していくという作業を行ったときに、最短で何回で数列hにすることが出来るのかという問題\n",
    "\n",
    "**いもす法**の逆を行うことで解ける  \n",
    "* 配列hにおいて h\\[i]-h\\[i-1](1<=i<n) を行う（いもす法において累積和をとる前の状態にする）  \n",
    "* 配列の中の自然数の値を足していく"
   ]
  },
  {
   "cell_type": "code",
   "execution_count": null,
   "metadata": {},
   "outputs": [],
   "source": [
    "import sys\n",
    "input = lambda: sys.stdin.readline().rstrip()\n",
    "\n",
    "def main():\n",
    "    n = int(input())\n",
    "    h = list(map(int, input().split()))\n",
    "    ans = h[0]\n",
    "    for i in range(1, n):\n",
    "        if h[i] - h[i-1] > 0:\n",
    "            ans += h[i] - h[i-1]\n",
    "    print(ans)\n",
    "        \n",
    "if __name__ == '__main__':\n",
    "    main()"
   ]
  }
 ]
}